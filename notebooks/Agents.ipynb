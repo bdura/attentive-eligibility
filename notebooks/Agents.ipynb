{
 "cells": [
  {
   "cell_type": "code",
   "execution_count": 1,
   "metadata": {
    "ExecuteTime": {
     "end_time": "2019-04-04T23:14:15.959191Z",
     "start_time": "2019-04-04T23:14:15.784728Z"
    }
   },
   "outputs": [],
   "source": [
    "import numpy as np"
   ]
  },
  {
   "cell_type": "code",
   "execution_count": 2,
   "metadata": {
    "ExecuteTime": {
     "end_time": "2019-04-04T23:14:15.964772Z",
     "start_time": "2019-04-04T23:14:15.961742Z"
    }
   },
   "outputs": [],
   "source": [
    "import sys\n",
    "import os\n",
    "\n",
    "sys.path.append(os.path.abspath('../'))\n",
    "\n",
    "del sys, os"
   ]
  },
  {
   "cell_type": "code",
   "execution_count": 3,
   "metadata": {
    "ExecuteTime": {
     "end_time": "2019-04-04T23:14:16.278224Z",
     "start_time": "2019-04-04T23:14:16.080307Z"
    }
   },
   "outputs": [],
   "source": [
    "import matplotlib.pyplot as plt"
   ]
  },
  {
   "cell_type": "code",
   "execution_count": 4,
   "metadata": {
    "ExecuteTime": {
     "end_time": "2019-04-04T23:14:16.317400Z",
     "start_time": "2019-04-04T23:14:16.280363Z"
    }
   },
   "outputs": [],
   "source": [
    "# LaTeX rendering in graphs\n",
    "from distutils.spawn import find_executable\n",
    "if find_executable('latex'):\n",
    "    plt.rc('text', usetex=True)\n",
    "\n",
    "plt.rc('font', family='serif')\n",
    "\n",
    "# High resolution graphs\n",
    "%config InlineBackend.figure_format = 'retina'"
   ]
  },
  {
   "cell_type": "code",
   "execution_count": 5,
   "metadata": {
    "ExecuteTime": {
     "end_time": "2019-04-04T23:14:16.522267Z",
     "start_time": "2019-04-04T23:14:16.373034Z"
    }
   },
   "outputs": [],
   "source": [
    "import torch"
   ]
  },
  {
   "cell_type": "code",
   "execution_count": 6,
   "metadata": {
    "ExecuteTime": {
     "end_time": "2019-04-04T23:14:16.552935Z",
     "start_time": "2019-04-04T23:14:16.524468Z"
    }
   },
   "outputs": [],
   "source": [
    "%reload_ext autoreload\n",
    "%autoreload 2"
   ]
  },
  {
   "cell_type": "code",
   "execution_count": 7,
   "metadata": {
    "ExecuteTime": {
     "end_time": "2019-04-04T23:14:16.685558Z",
     "start_time": "2019-04-04T23:14:16.648937Z"
    }
   },
   "outputs": [],
   "source": [
    "import models.rnn as networks\n",
    "import control.agents as agents"
   ]
  },
  {
   "cell_type": "code",
   "execution_count": 8,
   "metadata": {
    "ExecuteTime": {
     "end_time": "2019-04-04T23:14:16.823392Z",
     "start_time": "2019-04-04T23:14:16.794580Z"
    }
   },
   "outputs": [],
   "source": [
    "rnn = networks.RNN(hidden_dimension=100)\n",
    "optimiser = torch.optim.Adam(rnn.parameters(), lr=.001)"
   ]
  },
  {
   "cell_type": "code",
   "execution_count": 9,
   "metadata": {
    "ExecuteTime": {
     "end_time": "2019-04-04T23:14:16.976462Z",
     "start_time": "2019-04-04T23:14:16.947261Z"
    }
   },
   "outputs": [],
   "source": [
    "agent = agents.DQNAgent(rnn, optimiser)"
   ]
  },
  {
   "cell_type": "code",
   "execution_count": 10,
   "metadata": {
    "ExecuteTime": {
     "end_time": "2019-04-04T23:14:17.175671Z",
     "start_time": "2019-04-04T23:14:17.148414Z"
    }
   },
   "outputs": [],
   "source": [
    "agent.train()"
   ]
  },
  {
   "cell_type": "code",
   "execution_count": 11,
   "metadata": {
    "ExecuteTime": {
     "end_time": "2019-04-04T23:14:17.779492Z",
     "start_time": "2019-04-04T23:14:17.750695Z"
    }
   },
   "outputs": [],
   "source": [
    "state = np.random.randn(5)"
   ]
  },
  {
   "cell_type": "code",
   "execution_count": 12,
   "metadata": {
    "ExecuteTime": {
     "end_time": "2019-04-04T23:14:18.186959Z",
     "start_time": "2019-04-04T23:14:18.149220Z"
    }
   },
   "outputs": [
    {
     "data": {
      "text/plain": [
       "array([-0.00109276, -0.02687709, -0.12148459,  0.04906832], dtype=float32)"
      ]
     },
     "execution_count": 12,
     "metadata": {},
     "output_type": "execute_result"
    }
   ],
   "source": [
    "agent.q(state)"
   ]
  },
  {
   "cell_type": "code",
   "execution_count": 37,
   "metadata": {
    "ExecuteTime": {
     "end_time": "2019-04-04T23:14:43.470756Z",
     "start_time": "2019-04-04T23:14:43.440548Z"
    }
   },
   "outputs": [
    {
     "name": "stdout",
     "output_type": "stream",
     "text": [
      "[-14.88644    -1.1729723  -2.9075518  -1.3105729]\n"
     ]
    }
   ],
   "source": [
    "agent.update(state=state, action=0, target=-10.)\n",
    "print(agent.q(state))"
   ]
  },
  {
   "cell_type": "code",
   "execution_count": null,
   "metadata": {},
   "outputs": [],
   "source": []
  },
  {
   "cell_type": "code",
   "execution_count": null,
   "metadata": {},
   "outputs": [],
   "source": []
  }
 ],
 "metadata": {
  "kernelspec": {
   "display_name": "Python 3",
   "language": "python",
   "name": "python3"
  },
  "language_info": {
   "codemirror_mode": {
    "name": "ipython",
    "version": 3
   },
   "file_extension": ".py",
   "mimetype": "text/x-python",
   "name": "python",
   "nbconvert_exporter": "python",
   "pygments_lexer": "ipython3",
   "version": "3.7.2"
  },
  "toc": {
   "base_numbering": 1,
   "nav_menu": {},
   "number_sections": true,
   "sideBar": true,
   "skip_h1_title": false,
   "title_cell": "Table of Contents",
   "title_sidebar": "Contents",
   "toc_cell": false,
   "toc_position": {},
   "toc_section_display": true,
   "toc_window_display": false
  }
 },
 "nbformat": 4,
 "nbformat_minor": 2
}
