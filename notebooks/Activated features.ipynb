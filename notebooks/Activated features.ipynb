{
 "cells": [
  {
   "cell_type": "code",
   "execution_count": 1,
   "metadata": {
    "ExecuteTime": {
     "end_time": "2019-04-13T03:57:02.737055Z",
     "start_time": "2019-04-13T03:57:02.556520Z"
    }
   },
   "outputs": [],
   "source": [
    "import gym\n",
    "import numpy as np\n",
    "\n",
    "import time"
   ]
  },
  {
   "cell_type": "code",
   "execution_count": 2,
   "metadata": {
    "ExecuteTime": {
     "end_time": "2019-04-13T03:57:02.742934Z",
     "start_time": "2019-04-13T03:57:02.739357Z"
    }
   },
   "outputs": [],
   "source": [
    "import sys\n",
    "import os\n",
    "\n",
    "sys.path.append(os.path.abspath('../'))\n",
    "\n",
    "del sys, os"
   ]
  },
  {
   "cell_type": "code",
   "execution_count": 3,
   "metadata": {
    "ExecuteTime": {
     "end_time": "2019-04-13T03:57:03.019784Z",
     "start_time": "2019-04-13T03:57:02.822735Z"
    }
   },
   "outputs": [],
   "source": [
    "import matplotlib.pyplot as plt"
   ]
  },
  {
   "cell_type": "code",
   "execution_count": 4,
   "metadata": {
    "ExecuteTime": {
     "end_time": "2019-04-13T03:57:03.060858Z",
     "start_time": "2019-04-13T03:57:03.022490Z"
    }
   },
   "outputs": [],
   "source": [
    "# LaTeX rendering in graphs\n",
    "from distutils.spawn import find_executable\n",
    "if find_executable('latex'):\n",
    "    plt.rc('text', usetex=True)\n",
    "\n",
    "plt.rc('font', family='serif')\n",
    "\n",
    "# High resolution graphs\n",
    "%config InlineBackend.figure_format = 'retina'"
   ]
  },
  {
   "cell_type": "code",
   "execution_count": 5,
   "metadata": {
    "ExecuteTime": {
     "end_time": "2019-04-13T03:57:03.264395Z",
     "start_time": "2019-04-13T03:57:03.110113Z"
    }
   },
   "outputs": [],
   "source": [
    "import torch"
   ]
  },
  {
   "cell_type": "code",
   "execution_count": 6,
   "metadata": {
    "ExecuteTime": {
     "end_time": "2019-04-13T03:57:03.299844Z",
     "start_time": "2019-04-13T03:57:03.266445Z"
    }
   },
   "outputs": [],
   "source": [
    "%reload_ext autoreload\n",
    "%autoreload 2"
   ]
  },
  {
   "cell_type": "code",
   "execution_count": 7,
   "metadata": {
    "ExecuteTime": {
     "end_time": "2019-04-13T03:57:03.449865Z",
     "start_time": "2019-04-13T03:57:03.408497Z"
    }
   },
   "outputs": [],
   "source": [
    "import models.rnn as rnns\n",
    "import models.mlp as mlps\n",
    "import models.linear as linears\n",
    "import control.agents as agents\n",
    "import control.environments as env"
   ]
  },
  {
   "cell_type": "code",
   "execution_count": 8,
   "metadata": {
    "ExecuteTime": {
     "end_time": "2019-04-13T03:57:03.630150Z",
     "start_time": "2019-04-13T03:57:03.552027Z"
    }
   },
   "outputs": [],
   "source": [
    "from utils.notifications import Slack"
   ]
  },
  {
   "cell_type": "code",
   "execution_count": 9,
   "metadata": {
    "ExecuteTime": {
     "end_time": "2019-04-13T03:57:03.756714Z",
     "start_time": "2019-04-13T03:57:03.723601Z"
    }
   },
   "outputs": [],
   "source": [
    "import copy"
   ]
  },
  {
   "cell_type": "markdown",
   "metadata": {},
   "source": [
    "# Check the activated features"
   ]
  },
  {
   "cell_type": "code",
   "execution_count": 14,
   "metadata": {
    "ExecuteTime": {
     "end_time": "2019-04-13T04:54:31.160102Z",
     "start_time": "2019-04-13T04:54:31.128397Z"
    }
   },
   "outputs": [
    {
     "name": "stderr",
     "output_type": "stream",
     "text": [
      "/anaconda3/envs/rl/lib/python3.6/site-packages/gym/envs/registration.py:14: PkgResourcesDeprecationWarning: Parameters to load are deprecated.  Call .resolve and .require separately.\n",
      "  result = entry_point.load(False)\n"
     ]
    }
   ],
   "source": [
    "model = linears.Linear(input_dimension=128, n_actions=4)\n",
    "optimiser = torch.optim.Adam(model.parameters(), lr=.005)\n",
    "agent = agents.DQNAgent(model, optimiser, gamma=.99, temperature=1, algorithm='expsarsa', n_actions=4)\n",
    "\n",
    "environment = env.Environment(\n",
    "    environment=gym.make('Breakout-ram-v0'), \n",
    "    agent=agent,\n",
    "    verbose=True,\n",
    "    max_steps=300,\n",
    "    capacity=5000,\n",
    "    representation_method='vector'\n",
    ")"
   ]
  },
  {
   "cell_type": "code",
   "execution_count": 16,
   "metadata": {
    "scrolled": true
   },
   "outputs": [
    {
     "ename": "KeyboardInterrupt",
     "evalue": "",
     "output_type": "error",
     "traceback": [
      "\u001b[0;31m---------------------------------------------------------------------------\u001b[0m",
      "\u001b[0;31mKeyboardInterrupt\u001b[0m                         Traceback (most recent call last)",
      "\u001b[0;32m<ipython-input-16-b5fbd45fc71c>\u001b[0m in \u001b[0;36m<module>\u001b[0;34m\u001b[0m\n\u001b[0;32m----> 1\u001b[0;31m \u001b[0mm\u001b[0m\u001b[0;34m,\u001b[0m \u001b[0mM\u001b[0m \u001b[0;34m=\u001b[0m \u001b[0menvironment\u001b[0m\u001b[0;34m.\u001b[0m\u001b[0mbytes_evolution_range\u001b[0m\u001b[0;34m(\u001b[0m\u001b[0mn_episodes_exploration\u001b[0m\u001b[0;34m=\u001b[0m\u001b[0;36m1000\u001b[0m\u001b[0;34m,\u001b[0m \u001b[0mn_episodes_evaluation\u001b[0m\u001b[0;34m=\u001b[0m\u001b[0;36m100\u001b[0m\u001b[0;34m)\u001b[0m\u001b[0;34m\u001b[0m\u001b[0;34m\u001b[0m\u001b[0m\n\u001b[0m\u001b[1;32m      2\u001b[0m \u001b[0;34m\u001b[0m\u001b[0m\n\u001b[1;32m      3\u001b[0m \u001b[0mactivated_bytes\u001b[0m \u001b[0;34m=\u001b[0m \u001b[0mnp\u001b[0m\u001b[0;34m.\u001b[0m\u001b[0mnonzero\u001b[0m\u001b[0;34m(\u001b[0m\u001b[0mM\u001b[0m \u001b[0;34m-\u001b[0m \u001b[0mm\u001b[0m\u001b[0;34m)\u001b[0m\u001b[0;34m[\u001b[0m\u001b[0;36m0\u001b[0m\u001b[0;34m]\u001b[0m\u001b[0;34m\u001b[0m\u001b[0;34m\u001b[0m\u001b[0m\n\u001b[1;32m      4\u001b[0m \u001b[0mmin_bytes\u001b[0m \u001b[0;34m=\u001b[0m \u001b[0mm\u001b[0m\u001b[0;34m[\u001b[0m\u001b[0mactivated_bytes\u001b[0m\u001b[0;34m]\u001b[0m\u001b[0;34m\u001b[0m\u001b[0;34m\u001b[0m\u001b[0m\n\u001b[1;32m      5\u001b[0m \u001b[0mmax_bytes\u001b[0m \u001b[0;34m=\u001b[0m \u001b[0mM\u001b[0m\u001b[0;34m[\u001b[0m\u001b[0mactivated_bytes\u001b[0m\u001b[0;34m]\u001b[0m\u001b[0;34m\u001b[0m\u001b[0;34m\u001b[0m\u001b[0m\n",
      "\u001b[0;32m~/Desktop/project/attentive-eligibility/control/environments.py\u001b[0m in \u001b[0;36mbytes_evolution_range\u001b[0;34m(self, n_episodes_exploration, n_episodes_evaluation)\u001b[0m\n\u001b[1;32m    525\u001b[0m \u001b[0;34m\u001b[0m\u001b[0m\n\u001b[1;32m    526\u001b[0m         \u001b[0;32mfor\u001b[0m \u001b[0m_\u001b[0m \u001b[0;32min\u001b[0m \u001b[0mrange\u001b[0m\u001b[0;34m(\u001b[0m\u001b[0mn_episodes_exploration\u001b[0m\u001b[0;34m)\u001b[0m\u001b[0;34m:\u001b[0m\u001b[0;34m\u001b[0m\u001b[0;34m\u001b[0m\u001b[0m\n\u001b[0;32m--> 527\u001b[0;31m             \u001b[0mfull_return\u001b[0m\u001b[0;34m,\u001b[0m \u001b[0mcounter\u001b[0m\u001b[0;34m,\u001b[0m \u001b[0mobservations\u001b[0m \u001b[0;34m=\u001b[0m \u001b[0mself\u001b[0m\u001b[0;34m.\u001b[0m\u001b[0mexploration_episode\u001b[0m\u001b[0;34m(\u001b[0m\u001b[0mreturn_observations\u001b[0m\u001b[0;34m=\u001b[0m\u001b[0;32mTrue\u001b[0m\u001b[0;34m)\u001b[0m\u001b[0;34m\u001b[0m\u001b[0;34m\u001b[0m\u001b[0m\n\u001b[0m\u001b[1;32m    528\u001b[0m \u001b[0;34m\u001b[0m\u001b[0m\n\u001b[1;32m    529\u001b[0m             \u001b[0mobservations\u001b[0m \u001b[0;34m=\u001b[0m \u001b[0mnp\u001b[0m\u001b[0;34m.\u001b[0m\u001b[0masarray\u001b[0m\u001b[0;34m(\u001b[0m\u001b[0mobservations\u001b[0m\u001b[0;34m)\u001b[0m\u001b[0;34m\u001b[0m\u001b[0;34m\u001b[0m\u001b[0m\n",
      "\u001b[0;32m~/Desktop/project/attentive-eligibility/control/environments.py\u001b[0m in \u001b[0;36mexploration_episode\u001b[0;34m(self, render, return_observations)\u001b[0m\n\u001b[1;32m    299\u001b[0m         \u001b[0mcounter\u001b[0m \u001b[0;34m=\u001b[0m \u001b[0;36m0\u001b[0m\u001b[0;34m\u001b[0m\u001b[0;34m\u001b[0m\u001b[0m\n\u001b[1;32m    300\u001b[0m         \u001b[0;32mwhile\u001b[0m \u001b[0;32mnot\u001b[0m \u001b[0mdone\u001b[0m \u001b[0;32mand\u001b[0m \u001b[0mcounter\u001b[0m \u001b[0;34m<\u001b[0m \u001b[0mself\u001b[0m\u001b[0;34m.\u001b[0m\u001b[0mmax_steps\u001b[0m\u001b[0;34m:\u001b[0m\u001b[0;34m\u001b[0m\u001b[0;34m\u001b[0m\u001b[0m\n\u001b[0;32m--> 301\u001b[0;31m             \u001b[0mdone\u001b[0m\u001b[0;34m,\u001b[0m \u001b[0mreward\u001b[0m\u001b[0;34m,\u001b[0m \u001b[0mtransition\u001b[0m \u001b[0;34m=\u001b[0m \u001b[0mself\u001b[0m\u001b[0;34m.\u001b[0m\u001b[0mexplore\u001b[0m\u001b[0;34m(\u001b[0m\u001b[0;34m)\u001b[0m\u001b[0;34m\u001b[0m\u001b[0;34m\u001b[0m\u001b[0m\n\u001b[0m\u001b[1;32m    302\u001b[0m \u001b[0;34m\u001b[0m\u001b[0m\n\u001b[1;32m    303\u001b[0m             \u001b[0mepisode\u001b[0m\u001b[0;34m.\u001b[0m\u001b[0mpush\u001b[0m\u001b[0;34m(\u001b[0m\u001b[0mtransition\u001b[0m\u001b[0;34m)\u001b[0m\u001b[0;34m\u001b[0m\u001b[0;34m\u001b[0m\u001b[0m\n",
      "\u001b[0;32m~/Desktop/project/attentive-eligibility/control/environments.py\u001b[0m in \u001b[0;36mexplore\u001b[0;34m(self)\u001b[0m\n\u001b[1;32m    195\u001b[0m         \"\"\"\n\u001b[1;32m    196\u001b[0m \u001b[0;34m\u001b[0m\u001b[0m\n\u001b[0;32m--> 197\u001b[0;31m         \u001b[0ms\u001b[0m\u001b[0;34m,\u001b[0m \u001b[0mr\u001b[0m\u001b[0;34m,\u001b[0m \u001b[0md\u001b[0m\u001b[0;34m,\u001b[0m \u001b[0mi\u001b[0m \u001b[0;34m=\u001b[0m \u001b[0mself\u001b[0m\u001b[0;34m.\u001b[0m\u001b[0mstep\u001b[0m\u001b[0;34m(\u001b[0m\u001b[0mself\u001b[0m\u001b[0;34m.\u001b[0m\u001b[0maction\u001b[0m\u001b[0;34m)\u001b[0m\u001b[0;34m\u001b[0m\u001b[0;34m\u001b[0m\u001b[0m\n\u001b[0m\u001b[1;32m    198\u001b[0m \u001b[0;34m\u001b[0m\u001b[0m\n\u001b[1;32m    199\u001b[0m         \u001b[0;31m# If there are ties, we might want to choose between actions at random\u001b[0m\u001b[0;34m\u001b[0m\u001b[0;34m\u001b[0m\u001b[0;34m\u001b[0m\u001b[0m\n",
      "\u001b[0;32m~/Desktop/project/attentive-eligibility/control/environments.py\u001b[0m in \u001b[0;36mstep\u001b[0;34m(self, action)\u001b[0m\n\u001b[1;32m    158\u001b[0m         \"\"\"\n\u001b[1;32m    159\u001b[0m \u001b[0;34m\u001b[0m\u001b[0m\n\u001b[0;32m--> 160\u001b[0;31m         \u001b[0ms\u001b[0m\u001b[0;34m,\u001b[0m \u001b[0mr\u001b[0m\u001b[0;34m,\u001b[0m \u001b[0md\u001b[0m\u001b[0;34m,\u001b[0m \u001b[0mi\u001b[0m \u001b[0;34m=\u001b[0m \u001b[0mself\u001b[0m\u001b[0;34m.\u001b[0m\u001b[0menvironment\u001b[0m\u001b[0;34m.\u001b[0m\u001b[0mstep\u001b[0m\u001b[0;34m(\u001b[0m\u001b[0maction\u001b[0m\u001b[0;34m)\u001b[0m\u001b[0;34m\u001b[0m\u001b[0;34m\u001b[0m\u001b[0m\n\u001b[0m\u001b[1;32m    161\u001b[0m \u001b[0;34m\u001b[0m\u001b[0m\n\u001b[1;32m    162\u001b[0m         \u001b[0ms\u001b[0m \u001b[0;34m=\u001b[0m \u001b[0mself\u001b[0m\u001b[0;34m.\u001b[0m\u001b[0mstate_representation\u001b[0m\u001b[0;34m(\u001b[0m\u001b[0ms\u001b[0m\u001b[0;34m)\u001b[0m\u001b[0;34m\u001b[0m\u001b[0;34m\u001b[0m\u001b[0m\n",
      "\u001b[0;32m/anaconda3/envs/rl/lib/python3.6/site-packages/gym/wrappers/time_limit.py\u001b[0m in \u001b[0;36mstep\u001b[0;34m(self, action)\u001b[0m\n\u001b[1;32m     29\u001b[0m     \u001b[0;32mdef\u001b[0m \u001b[0mstep\u001b[0m\u001b[0;34m(\u001b[0m\u001b[0mself\u001b[0m\u001b[0;34m,\u001b[0m \u001b[0maction\u001b[0m\u001b[0;34m)\u001b[0m\u001b[0;34m:\u001b[0m\u001b[0;34m\u001b[0m\u001b[0;34m\u001b[0m\u001b[0m\n\u001b[1;32m     30\u001b[0m         \u001b[0;32massert\u001b[0m \u001b[0mself\u001b[0m\u001b[0;34m.\u001b[0m\u001b[0m_episode_started_at\u001b[0m \u001b[0;32mis\u001b[0m \u001b[0;32mnot\u001b[0m \u001b[0;32mNone\u001b[0m\u001b[0;34m,\u001b[0m \u001b[0;34m\"Cannot call env.step() before calling reset()\"\u001b[0m\u001b[0;34m\u001b[0m\u001b[0;34m\u001b[0m\u001b[0m\n\u001b[0;32m---> 31\u001b[0;31m         \u001b[0mobservation\u001b[0m\u001b[0;34m,\u001b[0m \u001b[0mreward\u001b[0m\u001b[0;34m,\u001b[0m \u001b[0mdone\u001b[0m\u001b[0;34m,\u001b[0m \u001b[0minfo\u001b[0m \u001b[0;34m=\u001b[0m \u001b[0mself\u001b[0m\u001b[0;34m.\u001b[0m\u001b[0menv\u001b[0m\u001b[0;34m.\u001b[0m\u001b[0mstep\u001b[0m\u001b[0;34m(\u001b[0m\u001b[0maction\u001b[0m\u001b[0;34m)\u001b[0m\u001b[0;34m\u001b[0m\u001b[0;34m\u001b[0m\u001b[0m\n\u001b[0m\u001b[1;32m     32\u001b[0m         \u001b[0mself\u001b[0m\u001b[0;34m.\u001b[0m\u001b[0m_elapsed_steps\u001b[0m \u001b[0;34m+=\u001b[0m \u001b[0;36m1\u001b[0m\u001b[0;34m\u001b[0m\u001b[0;34m\u001b[0m\u001b[0m\n\u001b[1;32m     33\u001b[0m \u001b[0;34m\u001b[0m\u001b[0m\n",
      "\u001b[0;32m/anaconda3/envs/rl/lib/python3.6/site-packages/gym/envs/atari/atari_env.py\u001b[0m in \u001b[0;36mstep\u001b[0;34m(self, a)\u001b[0m\n\u001b[1;32m     73\u001b[0m             \u001b[0mnum_steps\u001b[0m \u001b[0;34m=\u001b[0m \u001b[0mself\u001b[0m\u001b[0;34m.\u001b[0m\u001b[0mnp_random\u001b[0m\u001b[0;34m.\u001b[0m\u001b[0mrandint\u001b[0m\u001b[0;34m(\u001b[0m\u001b[0mself\u001b[0m\u001b[0;34m.\u001b[0m\u001b[0mframeskip\u001b[0m\u001b[0;34m[\u001b[0m\u001b[0;36m0\u001b[0m\u001b[0;34m]\u001b[0m\u001b[0;34m,\u001b[0m \u001b[0mself\u001b[0m\u001b[0;34m.\u001b[0m\u001b[0mframeskip\u001b[0m\u001b[0;34m[\u001b[0m\u001b[0;36m1\u001b[0m\u001b[0;34m]\u001b[0m\u001b[0;34m)\u001b[0m\u001b[0;34m\u001b[0m\u001b[0;34m\u001b[0m\u001b[0m\n\u001b[1;32m     74\u001b[0m         \u001b[0;32mfor\u001b[0m \u001b[0m_\u001b[0m \u001b[0;32min\u001b[0m \u001b[0mrange\u001b[0m\u001b[0;34m(\u001b[0m\u001b[0mnum_steps\u001b[0m\u001b[0;34m)\u001b[0m\u001b[0;34m:\u001b[0m\u001b[0;34m\u001b[0m\u001b[0;34m\u001b[0m\u001b[0m\n\u001b[0;32m---> 75\u001b[0;31m             \u001b[0mreward\u001b[0m \u001b[0;34m+=\u001b[0m \u001b[0mself\u001b[0m\u001b[0;34m.\u001b[0m\u001b[0male\u001b[0m\u001b[0;34m.\u001b[0m\u001b[0mact\u001b[0m\u001b[0;34m(\u001b[0m\u001b[0maction\u001b[0m\u001b[0;34m)\u001b[0m\u001b[0;34m\u001b[0m\u001b[0;34m\u001b[0m\u001b[0m\n\u001b[0m\u001b[1;32m     76\u001b[0m         \u001b[0mob\u001b[0m \u001b[0;34m=\u001b[0m \u001b[0mself\u001b[0m\u001b[0;34m.\u001b[0m\u001b[0m_get_obs\u001b[0m\u001b[0;34m(\u001b[0m\u001b[0;34m)\u001b[0m\u001b[0;34m\u001b[0m\u001b[0;34m\u001b[0m\u001b[0m\n\u001b[1;32m     77\u001b[0m \u001b[0;34m\u001b[0m\u001b[0m\n",
      "\u001b[0;32m/anaconda3/envs/rl/lib/python3.6/site-packages/atari_py/ale_python_interface.py\u001b[0m in \u001b[0;36mact\u001b[0;34m(self, action)\u001b[0m\n\u001b[1;32m    134\u001b[0m \u001b[0;34m\u001b[0m\u001b[0m\n\u001b[1;32m    135\u001b[0m     \u001b[0;32mdef\u001b[0m \u001b[0mact\u001b[0m\u001b[0;34m(\u001b[0m\u001b[0mself\u001b[0m\u001b[0;34m,\u001b[0m \u001b[0maction\u001b[0m\u001b[0;34m)\u001b[0m\u001b[0;34m:\u001b[0m\u001b[0;34m\u001b[0m\u001b[0;34m\u001b[0m\u001b[0m\n\u001b[0;32m--> 136\u001b[0;31m         \u001b[0;32mreturn\u001b[0m \u001b[0male_lib\u001b[0m\u001b[0;34m.\u001b[0m\u001b[0mact\u001b[0m\u001b[0;34m(\u001b[0m\u001b[0mself\u001b[0m\u001b[0;34m.\u001b[0m\u001b[0mobj\u001b[0m\u001b[0;34m,\u001b[0m \u001b[0mint\u001b[0m\u001b[0;34m(\u001b[0m\u001b[0maction\u001b[0m\u001b[0;34m)\u001b[0m\u001b[0;34m)\u001b[0m\u001b[0;34m\u001b[0m\u001b[0;34m\u001b[0m\u001b[0m\n\u001b[0m\u001b[1;32m    137\u001b[0m \u001b[0;34m\u001b[0m\u001b[0m\n\u001b[1;32m    138\u001b[0m     \u001b[0;32mdef\u001b[0m \u001b[0mgame_over\u001b[0m\u001b[0;34m(\u001b[0m\u001b[0mself\u001b[0m\u001b[0;34m)\u001b[0m\u001b[0;34m:\u001b[0m\u001b[0;34m\u001b[0m\u001b[0;34m\u001b[0m\u001b[0m\n",
      "\u001b[0;31mKeyboardInterrupt\u001b[0m: "
     ]
    }
   ],
   "source": [
    "m, M = environment.bytes_evolution_range(n_episodes_exploration=1000, n_episodes_evaluation=100)\n",
    "\n",
    "activated_bytes = np.nonzero(M - m)[0]\n",
    "min_bytes = m[activated_bytes]\n",
    "max_bytes = M[activated_bytes]\n",
    "bytes_range = max_bytes - min_bytes"
   ]
  },
  {
   "cell_type": "code",
   "execution_count": 12,
   "metadata": {},
   "outputs": [
    {
     "name": "stdout",
     "output_type": "stream",
     "text": [
      "14 activated bytes (coded on 1376 integers in total): 49, 57, 71, 74, 75, 86, 90, 94, 95, 99, 101, 103, 105, 119\n",
      "\n",
      "Min bytes: 225, 4, 1, 2, 0, 20, 0, 0, 0, 0, 0, 0, 0, 0\n",
      "\n",
      "Max bytes: 240, 5, 6, 8, 13, 25, 100, 228, 71, 199, 208, 1, 255, 255\n",
      "\n",
      "Bytes ranges: 15, 1, 5, 6, 13, 5, 100, 228, 71, 199, 208, 1, 255, 255\n"
     ]
    }
   ],
   "source": [
    "print((\"{} activated bytes (coded on {} integers in total): \" + \", \".join([str(x) for x in activated_bytes])).format(len(activated_bytes), len(activated_bytes) + sum(bytes_range)))\n",
    "print()\n",
    "print(\"Min bytes: \" + \", \".join([str(x) for x in min_bytes]))\n",
    "print()\n",
    "print(\"Max bytes: \" + \", \".join([str(x) for x in max_bytes]))\n",
    "print()\n",
    "print(\"Bytes ranges: \" + \", \".join([str(x) for x in bytes_range]))\n"
   ]
  },
  {
   "cell_type": "markdown",
   "metadata": {},
   "source": [
    "# Check the dimension of the representation space"
   ]
  },
  {
   "cell_type": "markdown",
   "metadata": {},
   "source": [
    "## For Environment (vector or tiling)"
   ]
  },
  {
   "cell_type": "code",
   "execution_count": 13,
   "metadata": {
    "ExecuteTime": {
     "end_time": "2019-04-13T03:57:04.056064Z",
     "start_time": "2019-04-13T03:57:04.028310Z"
    }
   },
   "outputs": [],
   "source": [
    "environment = env.Environment(\n",
    "    environment=gym.make('Breakout-ram-v0'), \n",
    "    agent=None,\n",
    "    verbose=True,\n",
    "    max_steps=300,\n",
    "    capacity=5000,\n",
    "    n_tilings=5,\n",
    "    n_bins=20\n",
    ")"
   ]
  },
  {
   "cell_type": "code",
   "execution_count": 14,
   "metadata": {
    "scrolled": true
   },
   "outputs": [
    {
     "name": "stdout",
     "output_type": "stream",
     "text": [
      "(128,)\n",
      "(12800,)\n"
     ]
    }
   ],
   "source": [
    "for representation_method in ['vector', 'tiling']:\n",
    "    environment.representation_method = representation_method\n",
    "    print(\"{}: {}\".format(representation_method, environment.get_input_dimension()))"
   ]
  },
  {
   "cell_type": "markdown",
   "metadata": {},
   "source": [
    "## For OverSimplifiedEnvironment (vector, tiling, 1 hot encoding or mixed)"
   ]
  },
  {
   "cell_type": "code",
   "execution_count": 15,
   "metadata": {
    "ExecuteTime": {
     "end_time": "2019-04-13T03:57:04.056064Z",
     "start_time": "2019-04-13T03:57:04.028310Z"
    }
   },
   "outputs": [],
   "source": [
    "environment = env.OverSimplifiedEnvironment(\n",
    "    environment=gym.make('Breakout-ram-v0'), \n",
    "    agent=None,\n",
    "    verbose=True,\n",
    "    max_steps=300,\n",
    "    capacity=5000,\n",
    "    mixed_threshold=10,\n",
    "    max_tiling=5\n",
    ")"
   ]
  },
  {
   "cell_type": "markdown",
   "metadata": {},
   "source": [
    "### Check the current environment:"
   ]
  },
  {
   "cell_type": "code",
   "execution_count": 16,
   "metadata": {},
   "outputs": [],
   "source": [
    "activated_bytes = environment.features\n",
    "min_bytes = environment.min_range\n",
    "max_bytes = environment.max_range\n",
    "bytes_range = max_bytes - min_bytes\n",
    "tilings = environment.tilings"
   ]
  },
  {
   "cell_type": "code",
   "execution_count": 19,
   "metadata": {},
   "outputs": [
    {
     "name": "stdout",
     "output_type": "stream",
     "text": [
      "26 activated bytes (coded on 3074 integers in total): 30, 49, 57, 70, 71, 72, 74, 75, 77, 84, 86, 90, 91, 94, 95, 96, 99, 100, 101, 103, 105, 106, 107, 119, 121, 122\n",
      "\n",
      "Min bytes: 0, 225, 4, 0, 1, 55, 2, 0, 0, 0, 20, 0, 0, 0, 0, 0, 0, 0, 0, 0, 0, 0, 0, 0, 0, 150\n",
      "\n",
      "Max bytes: 192, 240, 5, 184, 6, 191, 8, 13, 1, 5, 25, 255, 3, 228, 135, 28, 232, 128, 208, 255, 255, 128, 129, 255, 150, 246\n",
      "\n",
      "Bytes ranges: 192, 15, 1, 184, 5, 136, 6, 13, 1, 5, 5, 255, 3, 228, 135, 28, 232, 128, 208, 255, 255, 128, 129, 255, 150, 96\n",
      "\n",
      "Tilings: [4, 1, 1, 4, 1, 3, 1, 1, 1, 1, 1, 5, 1, 5, 3, 1, 5, 3, 5, 5, 5, 3, 3, 5, 3, 2]\n"
     ]
    }
   ],
   "source": [
    "print((\"{} activated bytes (coded on {} integers in total): \" + \", \".join([str(x) for x in activated_bytes])).format(len(activated_bytes), len(activated_bytes) + sum(bytes_range)))\n",
    "print()\n",
    "print(\"Min bytes: \" + \", \".join([str(x) for x in min_bytes]))\n",
    "print()\n",
    "print(\"Max bytes: \" + \", \".join([str(x) for x in max_bytes]))\n",
    "print()\n",
    "print(\"Bytes ranges: \" + \", \".join([str(x) for x in bytes_range]))\n",
    "print()\n",
    "print(\"Tilings: {}\".format(tilings))\n"
   ]
  },
  {
   "cell_type": "markdown",
   "metadata": {},
   "source": [
    "### Check the dimensions of the representation spaces"
   ]
  },
  {
   "cell_type": "code",
   "execution_count": 22,
   "metadata": {},
   "outputs": [
    {
     "name": "stdout",
     "output_type": "stream",
     "text": [
      "(26,)\n",
      "(730,)\n",
      "(3074,)\n",
      "(693,)\n"
     ]
    }
   ],
   "source": [
    "for representation_method in ['vector', 'tiling', 'one_hot_encoding', 'mixed']:\n",
    "    environment.representation_method = representation_method\n",
    "    print(\"{}: {}\".format(representation_method, environment.get_input_dimension()))"
   ]
  },
  {
   "cell_type": "markdown",
   "metadata": {},
   "source": [
    "# Compare the current activated features and those from a loaded model"
   ]
  },
  {
   "cell_type": "code",
   "execution_count": 10,
   "metadata": {},
   "outputs": [
    {
     "name": "stderr",
     "output_type": "stream",
     "text": [
      "/anaconda3/envs/rl/lib/python3.6/site-packages/gym/envs/registration.py:14: PkgResourcesDeprecationWarning: Parameters to load are deprecated.  Call .resolve and .require separately.\n",
      "  result = entry_point.load(False)\n"
     ]
    }
   ],
   "source": [
    "environment = env.OverSimplifiedEnvironment(\n",
    "    environment=gym.make('Breakout-ram-v0'), \n",
    "    agent=None,\n",
    "    verbose=True,\n",
    "    max_steps=300,\n",
    "    capacity=5000,\n",
    "    representation_method='mixed',\n",
    "    mixed_threshold=10,\n",
    "    max_tiling=5\n",
    ")\n",
    "input_dimension = environment.get_input_dimension()\n",
    "n_actions = environment.n_actions\n",
    "\n",
    "model = linears.Linear(input_dimension=input_dimension, n_actions=n_actions)\n",
    "optimiser = torch.optim.Adam(model.parameters(), lr=.001)\n",
    "agent = agents.DQNAgent(model, optimiser, gamma=.999, temperature=10, algorithm='expsarsa', n_actions=n_actions)\n",
    "\n",
    "environment.agent = agent"
   ]
  },
  {
   "cell_type": "code",
   "execution_count": 11,
   "metadata": {},
   "outputs": [
    {
     "name": "stdout",
     "output_type": "stream",
     "text": [
      "[0.1980581  0.31158602 0.10360365]\n",
      "[1.0813041  0.66803575 0.6778667 ]\n"
     ]
    }
   ],
   "source": [
    "print(environment.agent.q(environment.state_representation(environment.environment.reset())))\n",
    "model.load_state_dict(torch.load('../saved/mixed_linear/state_dict.pth'))\n",
    "agent.commit()\n",
    "print(environment.agent.q(environment.state_representation(environment.environment.reset())))"
   ]
  },
  {
   "cell_type": "code",
   "execution_count": 16,
   "metadata": {},
   "outputs": [],
   "source": [
    "activated_bytes = environment.features\n",
    "min_bytes = environment.min_range\n",
    "max_bytes = environment.max_range\n",
    "bytes_range = max_bytes - min_bytes\n",
    "tilings = environment.tilings"
   ]
  },
  {
   "cell_type": "code",
   "execution_count": 17,
   "metadata": {},
   "outputs": [
    {
     "name": "stdout",
     "output_type": "stream",
     "text": [
      "37 activated bytes (coded on 4126 integers in total): 0, 12, 18, 19, 24, 25, 30, 49, 57, 70, 71, 72, 74, 75, 77, 84, 86, 90, 91, 94, 95, 96, 99, 100, 101, 103, 105, 106, 107, 119, 121, 122, 102, 104, 109, 6, 31\n",
      "\n",
      "Min bytes: 15, 207, 207, 243, 15, 252, 0, 225, 4, 0, 1, 55, 2, 0, 0, 0, 20, 0, 0, 0, 0, 0, 0, 0, 0, 0, 0, 0, 0, 0, 0, 150, 0, 0, 0, 63, 0\n",
      "\n",
      "Max bytes: 63, 255, 255, 255, 255, 255, 192, 240, 5, 184, 6, 191, 8, 13, 1, 5, 25, 255, 3, 228, 135, 28, 232, 128, 208, 255, 255, 128, 129, 255, 150, 246, 128, 128, 2, 255, 192\n",
      "\n",
      "Bytes ranges: 48, 48, 48, 12, 240, 3, 192, 15, 1, 184, 5, 136, 6, 13, 1, 5, 5, 255, 3, 228, 135, 28, 232, 128, 208, 255, 255, 128, 129, 255, 150, 96, 128, 128, 2, 192, 192\n",
      "\n",
      "Tilings: [1, 1, 1, 1, 5, 1, 4, 1, 1, 4, 1, 3, 1, 1, 1, 1, 1, 5, 1, 5, 3, 1, 5, 3, 5, 5, 5, 3, 3, 5, 3, 2, 3, 3, 1, 4, 4]\n"
     ]
    }
   ],
   "source": [
    "print((\"{} activated bytes (coded on {} integers in total): \" + \", \".join([str(x) for x in activated_bytes])).format(len(activated_bytes), len(activated_bytes) + sum(bytes_range)))\n",
    "print()\n",
    "print(\"Min bytes: \" + \", \".join([str(x) for x in min_bytes]))\n",
    "print()\n",
    "print(\"Max bytes: \" + \", \".join([str(x) for x in max_bytes]))\n",
    "print()\n",
    "print(\"Bytes ranges: \" + \", \".join([str(x) for x in bytes_range]))\n",
    "print()\n",
    "print(\"Tilings: {}\".format(tilings))\n"
   ]
  },
  {
   "cell_type": "code",
   "execution_count": 12,
   "metadata": {},
   "outputs": [],
   "source": [
    "m, M = environment.bytes_evolution_range(n_episodes_exploration=500, n_episodes_evaluation=100)\n",
    "\n",
    "activated_bytes = np.nonzero(M - m)[0]\n",
    "min_bytes = m[activated_bytes]\n",
    "max_bytes = M[activated_bytes]\n",
    "bytes_range = max_bytes - min_bytes"
   ]
  },
  {
   "cell_type": "code",
   "execution_count": 13,
   "metadata": {},
   "outputs": [
    {
     "name": "stdout",
     "output_type": "stream",
     "text": [
      "36 activated bytes (coded on 4411 integers in total): 0, 6, 12, 18, 19, 24, 30, 31, 49, 57, 70, 71, 72, 74, 75, 77, 84, 86, 90, 91, 94, 95, 96, 99, 100, 101, 102, 103, 104, 105, 106, 107, 109, 119, 121, 122\n",
      "\n",
      "Min bytes: 15, 63, 63, 63, 252, 15, 0, 0, 225, 4, 0, 1, 55, 2, 0, 0, 0, 20, 0, 0, 0, 0, 0, 0, 0, 0, 0, 0, 0, 0, 0, 0, 0, 0, 0, 150\n",
      "\n",
      "Max bytes: 63, 255, 255, 255, 255, 255, 192, 192, 240, 5, 184, 6, 191, 8, 13, 3, 15, 25, 255, 3, 226, 135, 28, 230, 128, 208, 128, 255, 128, 255, 128, 131, 2, 255, 150, 246\n",
      "\n",
      "Bytes ranges: 48, 192, 192, 192, 3, 240, 192, 192, 15, 1, 184, 5, 136, 6, 13, 3, 15, 5, 255, 3, 226, 135, 28, 230, 128, 208, 128, 255, 128, 255, 128, 131, 2, 255, 150, 96\n"
     ]
    }
   ],
   "source": [
    "print((\"{} activated bytes (coded on {} integers in total): \" + \", \".join([str(x) for x in activated_bytes])).format(len(activated_bytes), len(activated_bytes) + sum(bytes_range)))\n",
    "print()\n",
    "print(\"Min bytes: \" + \", \".join([str(x) for x in min_bytes]))\n",
    "print()\n",
    "print(\"Max bytes: \" + \", \".join([str(x) for x in max_bytes]))\n",
    "print()\n",
    "print(\"Bytes ranges: \" + \", \".join([str(x) for x in bytes_range]))\n"
   ]
  },
  {
   "cell_type": "code",
   "execution_count": 14,
   "metadata": {},
   "outputs": [],
   "source": [
    "new_bytes = [x for x in activated_bytes if x not in environment.features]\n",
    "new_min_bytes = m[new_bytes]\n",
    "new_max_bytes = M[new_bytes]\n",
    "new_bytes_range = new_max_bytes - new_min_bytes"
   ]
  },
  {
   "cell_type": "code",
   "execution_count": 15,
   "metadata": {},
   "outputs": [
    {
     "name": "stdout",
     "output_type": "stream",
     "text": [
      "0 new bytes: \n",
      "\n",
      "Min bytes: \n",
      "\n",
      "Max bytes: \n",
      "\n",
      "Bytes ranges: \n"
     ]
    }
   ],
   "source": [
    "print((\"{} new bytes: \" + \", \".join([str(x) for x in new_bytes])).format(len(new_bytes)))\n",
    "print()\n",
    "print(\"Min bytes: \" + \", \".join([str(x) for x in new_min_bytes]))\n",
    "print()\n",
    "print(\"Max bytes: \" + \", \".join([str(x) for x in new_max_bytes]))\n",
    "print()\n",
    "print(\"Bytes ranges: \" + \", \".join([str(x) for x in new_bytes_range]))\n"
   ]
  },
  {
   "cell_type": "code",
   "execution_count": null,
   "metadata": {},
   "outputs": [],
   "source": []
  }
 ],
 "metadata": {
  "kernelspec": {
   "display_name": "Python 3",
   "language": "python",
   "name": "python3"
  },
  "language_info": {
   "codemirror_mode": {
    "name": "ipython",
    "version": 3
   },
   "file_extension": ".py",
   "mimetype": "text/x-python",
   "name": "python",
   "nbconvert_exporter": "python",
   "pygments_lexer": "ipython3",
   "version": "3.6.8"
  },
  "toc": {
   "base_numbering": 1,
   "nav_menu": {},
   "number_sections": true,
   "sideBar": true,
   "skip_h1_title": false,
   "title_cell": "Table of Contents",
   "title_sidebar": "Contents",
   "toc_cell": false,
   "toc_position": {},
   "toc_section_display": true,
   "toc_window_display": false
  }
 },
 "nbformat": 4,
 "nbformat_minor": 2
}
