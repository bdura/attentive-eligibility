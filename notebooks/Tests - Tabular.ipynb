{
 "cells": [
  {
   "cell_type": "code",
   "execution_count": 1,
   "metadata": {
    "ExecuteTime": {
     "end_time": "2019-04-13T03:57:02.737055Z",
     "start_time": "2019-04-13T03:57:02.556520Z"
    }
   },
   "outputs": [],
   "source": [
    "import gym\n",
    "import numpy as np\n",
    "\n",
    "import time"
   ]
  },
  {
   "cell_type": "code",
   "execution_count": 2,
   "metadata": {
    "ExecuteTime": {
     "end_time": "2019-04-13T03:57:02.742934Z",
     "start_time": "2019-04-13T03:57:02.739357Z"
    }
   },
   "outputs": [],
   "source": [
    "import sys\n",
    "import os\n",
    "\n",
    "sys.path.append(os.path.abspath('../'))\n",
    "\n",
    "del sys, os"
   ]
  },
  {
   "cell_type": "code",
   "execution_count": 3,
   "metadata": {
    "ExecuteTime": {
     "end_time": "2019-04-13T03:57:03.019784Z",
     "start_time": "2019-04-13T03:57:02.822735Z"
    }
   },
   "outputs": [],
   "source": [
    "import matplotlib.pyplot as plt"
   ]
  },
  {
   "cell_type": "code",
   "execution_count": 4,
   "metadata": {
    "ExecuteTime": {
     "end_time": "2019-04-13T03:57:03.060858Z",
     "start_time": "2019-04-13T03:57:03.022490Z"
    }
   },
   "outputs": [],
   "source": [
    "# LaTeX rendering in graphs\n",
    "from distutils.spawn import find_executable\n",
    "if find_executable('latex'):\n",
    "    plt.rc('text', usetex=True)\n",
    "\n",
    "plt.rc('font', family='serif')\n",
    "\n",
    "# High resolution graphs\n",
    "%config InlineBackend.figure_format = 'retina'"
   ]
  },
  {
   "cell_type": "code",
   "execution_count": 5,
   "metadata": {
    "ExecuteTime": {
     "end_time": "2019-04-13T03:57:03.264395Z",
     "start_time": "2019-04-13T03:57:03.110113Z"
    }
   },
   "outputs": [],
   "source": [
    "import torch"
   ]
  },
  {
   "cell_type": "code",
   "execution_count": 6,
   "metadata": {
    "ExecuteTime": {
     "end_time": "2019-04-13T03:57:03.299844Z",
     "start_time": "2019-04-13T03:57:03.266445Z"
    }
   },
   "outputs": [],
   "source": [
    "%reload_ext autoreload\n",
    "%autoreload 2"
   ]
  },
  {
   "cell_type": "code",
   "execution_count": 7,
   "metadata": {
    "ExecuteTime": {
     "end_time": "2019-04-13T03:57:03.449865Z",
     "start_time": "2019-04-13T03:57:03.408497Z"
    }
   },
   "outputs": [],
   "source": [
    "import models.rnn as rnns\n",
    "import models.mlp as mlps\n",
    "import models.linear as linears\n",
    "import control.agents as agents\n",
    "import control.environments as env"
   ]
  },
  {
   "cell_type": "code",
   "execution_count": 8,
   "metadata": {
    "ExecuteTime": {
     "end_time": "2019-04-13T03:57:03.630150Z",
     "start_time": "2019-04-13T03:57:03.552027Z"
    }
   },
   "outputs": [],
   "source": [
    "from utils.notifications import Slack"
   ]
  },
  {
   "cell_type": "code",
   "execution_count": 9,
   "metadata": {
    "ExecuteTime": {
     "end_time": "2019-04-13T03:57:03.756714Z",
     "start_time": "2019-04-13T03:57:03.723601Z"
    }
   },
   "outputs": [],
   "source": [
    "import copy"
   ]
  },
  {
   "cell_type": "markdown",
   "metadata": {},
   "source": [
    "# Setup"
   ]
  },
  {
   "cell_type": "code",
   "execution_count": 10,
   "metadata": {},
   "outputs": [
    {
     "name": "stderr",
     "output_type": "stream",
     "text": [
      "/anaconda3/envs/rl/lib/python3.6/site-packages/gym/envs/registration.py:14: PkgResourcesDeprecationWarning: Parameters to load are deprecated.  Call .resolve and .require separately.\n",
      "  result = entry_point.load(False)\n"
     ]
    }
   ],
   "source": [
    "environment = env.OverSimplifiedEnvironment(\n",
    "    environment=gym.make('Breakout-ram-v0'), \n",
    "    agent=None,\n",
    "    verbose=True,\n",
    "    max_steps=200,\n",
    "    capacity=5000,\n",
    "    representation_method='mixed',\n",
    "    mixed_threshold=10,\n",
    "    max_tiling=5\n",
    ")"
   ]
  },
  {
   "cell_type": "code",
   "execution_count": 11,
   "metadata": {},
   "outputs": [
    {
     "name": "stdout",
     "output_type": "stream",
     "text": [
      "Input dimension: 986; number of actions: 3\n"
     ]
    }
   ],
   "source": [
    "input_dimension = environment.get_input_dimension()\n",
    "n_actions = environment.n_actions\n",
    "print(\"Input dimension: {}; number of actions: {}\".format(input_dimension, n_actions))"
   ]
  },
  {
   "cell_type": "code",
   "execution_count": 12,
   "metadata": {
    "ExecuteTime": {
     "end_time": "2019-04-13T03:57:04.056064Z",
     "start_time": "2019-04-13T03:57:04.028310Z"
    }
   },
   "outputs": [],
   "source": [
    "model = mlps.MLP(input_dimension=input_dimension, \n",
    "                 hidden_dimension=400,\n",
    "                 n_hidden_layers=2,\n",
    "                 n_actions=n_actions,\n",
    "                 dropout=.3)\n",
    "optimiser = torch.optim.Adam(model.parameters(), lr=.001)\n",
    "agent = agents.DQNAgent(model, optimiser, gamma=1, temperature=1, algorithm='expsarsa', n_actions=n_actions)\n",
    "environment.agent = agent"
   ]
  },
  {
   "cell_type": "code",
   "execution_count": 19,
   "metadata": {},
   "outputs": [
    {
     "name": "stdout",
     "output_type": "stream",
     "text": [
      "[0.6417884  0.57499695 0.62076074]\n",
      "[0.6417884  0.57499695 0.62076074]\n"
     ]
    }
   ],
   "source": [
    "print(environment.agent.q(environment.state_representation(environment.environment.reset())))\n",
    "model.load_state_dict(torch.load('../saved/mixed_mlp/state_dict.pth'))\n",
    "agent.commit()\n",
    "print(environment.agent.q(environment.state_representation(environment.environment.reset())))"
   ]
  },
  {
   "cell_type": "markdown",
   "metadata": {},
   "source": [
    "# Experiment"
   ]
  },
  {
   "cell_type": "markdown",
   "metadata": {},
   "source": [
    "## Training"
   ]
  },
  {
   "cell_type": "code",
   "execution_count": 22,
   "metadata": {
    "ExecuteTime": {
     "end_time": "2019-04-13T05:09:27.751014Z",
     "start_time": "2019-04-13T04:55:34.389151Z"
    }
   },
   "outputs": [
    {
     "name": "stdout",
     "output_type": "stream",
     "text": [
      "[0.0000000e+00 0.0000000e+00 5.9604645e-08]\n",
      "[0.6417884 0.6417884 0.6417884 0.6417884 0.6417884 0.6417884 0.6417884\n",
      " 0.6417884 0.6417884 0.6417884 0.6417884 0.6417884 0.6417884 0.6417884\n",
      " 0.6417884 0.6417884 0.6417884 0.6417884 0.6417884 0.6417884 0.6417884\n",
      " 0.6417884 0.6417884 0.6417884 0.6417884 0.6417884 0.6417884 0.6417884\n",
      " 0.6417884 0.6417884 0.6417884 0.6417884 0.6417884]\n"
     ]
    },
    {
     "data": {
      "image/png": "[encoded data removed]",
      "text/plain": [
       "<Figure size 432x288 with 1 Axes>"
      ]
     },
     "metadata": {
      "image/png": {
       "height": 250,
       "width": 375
      },
      "needs_background": "light"
     },
     "output_type": "display_data"
    }
   ],
   "source": [
    "n_episodes = 3\n",
    "agent.temperature = 0.1\n",
    "\n",
    "plt.figure()\n",
    "\n",
    "for i in range(n_episodes):\n",
    "\n",
    "    full_return, counter, observations = environment.evaluation_episode(render=False,return_observations=True)\n",
    "    \n",
    "    q = []\n",
    "    \n",
    "    observation_old = None\n",
    "    q_old = None\n",
    "    \n",
    "    for observation in observations:\n",
    "        \n",
    "        observation_new = environment.state_representation(observation)\n",
    "        q_new = environment.agent.q(environment.state_representation(observation))\n",
    "        \n",
    "        if observation_old is not None:\n",
    "            same_obs = np.array_equal(observation_old, observation_new)\n",
    "            same_q = np.array_equal(q_old, q_new)\n",
    "            if not same_obs and not same_q:\n",
    "                print(\"great\")\n",
    "        \n",
    "        observation_old = observation_new\n",
    "        q_old = q_new\n",
    "        \n",
    "        q.append(q_new)\n",
    "        \n",
    "    q = np.asarray(q)\n",
    "    print(np.std(q, axis=0))\n",
    "    print(q[:,0])\n",
    "    plt.plot(q[:,0], label='0')\n",
    "    break\n",
    "    #plt.plot(q[:,1], label='1')\n",
    "    #plt.plot(q[:,2], label='2')\n",
    "    \n",
    "plt.show()"
   ]
  },
  {
   "cell_type": "code",
   "execution_count": 15,
   "metadata": {},
   "outputs": [
    {
     "ename": "NameError",
     "evalue": "name 'q_estimation' is not defined",
     "output_type": "error",
     "traceback": [
      "\u001b[0;31m---------------------------------------------------------------------------\u001b[0m",
      "\u001b[0;31mNameError\u001b[0m                                 Traceback (most recent call last)",
      "\u001b[0;32m<ipython-input-15-53d8790d2281>\u001b[0m in \u001b[0;36m<module>\u001b[0;34m\u001b[0m\n\u001b[1;32m      1\u001b[0m \u001b[0mplt\u001b[0m\u001b[0;34m.\u001b[0m\u001b[0mfigure\u001b[0m\u001b[0;34m(\u001b[0m\u001b[0;34m)\u001b[0m\u001b[0;34m\u001b[0m\u001b[0;34m\u001b[0m\u001b[0m\n\u001b[1;32m      2\u001b[0m \u001b[0;32mfor\u001b[0m \u001b[0mi\u001b[0m \u001b[0;32min\u001b[0m \u001b[0mrange\u001b[0m\u001b[0;34m(\u001b[0m\u001b[0mn_episodes\u001b[0m\u001b[0;34m)\u001b[0m\u001b[0;34m:\u001b[0m\u001b[0;34m\u001b[0m\u001b[0;34m\u001b[0m\u001b[0m\n\u001b[0;32m----> 3\u001b[0;31m     \u001b[0mx\u001b[0m \u001b[0;34m=\u001b[0m \u001b[0mnp\u001b[0m\u001b[0;34m.\u001b[0m\u001b[0masarray\u001b[0m\u001b[0;34m(\u001b[0m\u001b[0mq_estimation\u001b[0m\u001b[0;34m[\u001b[0m\u001b[0mi\u001b[0m\u001b[0;34m]\u001b[0m\u001b[0;34m)\u001b[0m\u001b[0;34m\u001b[0m\u001b[0;34m\u001b[0m\u001b[0m\n\u001b[0m\u001b[1;32m      4\u001b[0m     \u001b[0mplt\u001b[0m\u001b[0;34m.\u001b[0m\u001b[0mplot\u001b[0m\u001b[0;34m(\u001b[0m\u001b[0mx\u001b[0m\u001b[0;34m[\u001b[0m\u001b[0;34m:\u001b[0m\u001b[0;34m,\u001b[0m\u001b[0;36m1\u001b[0m\u001b[0;34m]\u001b[0m\u001b[0;34m)\u001b[0m\u001b[0;34m\u001b[0m\u001b[0;34m\u001b[0m\u001b[0m\n\u001b[1;32m      5\u001b[0m \u001b[0;34m\u001b[0m\u001b[0m\n",
      "\u001b[0;31mNameError\u001b[0m: name 'q_estimation' is not defined"
     ]
    },
    {
     "data": {
      "text/plain": [
       "<Figure size 432x288 with 0 Axes>"
      ]
     },
     "metadata": {},
     "output_type": "display_data"
    }
   ],
   "source": [
    "plt.figure()\n",
    "for i in range(n_episodes):\n",
    "    x = np.asarray(q_estimation[i])\n",
    "    plt.plot(x[:,1])\n",
    "\n",
    "plt.show()"
   ]
  },
  {
   "cell_type": "markdown",
   "metadata": {},
   "source": [
    "## Testing"
   ]
  },
  {
   "cell_type": "code",
   "execution_count": 23,
   "metadata": {
    "ExecuteTime": {
     "end_time": "2019-04-13T05:14:37.715141Z",
     "start_time": "2019-04-13T05:14:37.665856Z"
    }
   },
   "outputs": [],
   "source": [
    "agent.temperature = 0.1\n",
    "for _ in range(5):\n",
    "    environment.exploration_episode(render=True)"
   ]
  },
  {
   "cell_type": "code",
   "execution_count": 24,
   "metadata": {
    "ExecuteTime": {
     "end_time": "2019-04-13T05:14:37.715141Z",
     "start_time": "2019-04-13T05:14:37.665856Z"
    }
   },
   "outputs": [],
   "source": [
    "for _ in range(5):\n",
    "    environment.evaluation_episode(render=True)"
   ]
  },
  {
   "cell_type": "code",
   "execution_count": null,
   "metadata": {},
   "outputs": [],
   "source": []
  }
 ],
 "metadata": {
  "kernelspec": {
   "display_name": "Python 3",
   "language": "python",
   "name": "python3"
  },
  "language_info": {
   "codemirror_mode": {
    "name": "ipython",
    "version": 3
   },
   "file_extension": ".py",
   "mimetype": "text/x-python",
   "name": "python",
   "nbconvert_exporter": "python",
   "pygments_lexer": "ipython3",
   "version": "3.6.8"
  },
  "toc": {
   "base_numbering": 1,
   "nav_menu": {},
   "number_sections": true,
   "sideBar": true,
   "skip_h1_title": false,
   "title_cell": "Table of Contents",
   "title_sidebar": "Contents",
   "toc_cell": false,
   "toc_position": {},
   "toc_section_display": true,
   "toc_window_display": false
  }
 },
 "nbformat": 4,
 "nbformat_minor": 2
}
