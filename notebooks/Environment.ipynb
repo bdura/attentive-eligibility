{
 "cells": [
  {
   "cell_type": "code",
   "execution_count": 1,
   "metadata": {
    "ExecuteTime": {
     "end_time": "2019-04-13T02:57:49.417383Z",
     "start_time": "2019-04-13T02:57:49.234038Z"
    }
   },
   "outputs": [],
   "source": [
    "import gym\n",
    "import time"
   ]
  },
  {
   "cell_type": "code",
   "execution_count": 63,
   "metadata": {
    "ExecuteTime": {
     "end_time": "2019-04-13T03:00:22.464089Z",
     "start_time": "2019-04-13T03:00:22.460535Z"
    }
   },
   "outputs": [],
   "source": [
    "import numpy as np"
   ]
  },
  {
   "cell_type": "code",
   "execution_count": 2,
   "metadata": {
    "ExecuteTime": {
     "end_time": "2019-04-13T02:57:49.678767Z",
     "start_time": "2019-04-13T02:57:49.419834Z"
    }
   },
   "outputs": [],
   "source": [
    "environment = gym.make('Breakout-ram-v0')"
   ]
  },
  {
   "cell_type": "markdown",
   "metadata": {},
   "source": [
    "# Getting the byte for the ball and bar"
   ]
  },
  {
   "cell_type": "markdown",
   "metadata": {},
   "source": [
    "## Bar"
   ]
  },
  {
   "cell_type": "code",
   "execution_count": 539,
   "metadata": {
    "ExecuteTime": {
     "end_time": "2019-04-13T03:12:58.044087Z",
     "start_time": "2019-04-13T03:12:58.032862Z"
    }
   },
   "outputs": [],
   "source": [
    "state = environment.reset()"
   ]
  },
  {
   "cell_type": "code",
   "execution_count": 540,
   "metadata": {
    "ExecuteTime": {
     "end_time": "2019-04-13T03:12:58.427284Z",
     "start_time": "2019-04-13T03:12:58.424692Z"
    }
   },
   "outputs": [],
   "source": [
    "observations = []"
   ]
  },
  {
   "cell_type": "code",
   "execution_count": 562,
   "metadata": {
    "ExecuteTime": {
     "end_time": "2019-04-13T03:13:24.199376Z",
     "start_time": "2019-04-13T03:13:24.189285Z"
    }
   },
   "outputs": [
    {
     "name": "stdout",
     "output_type": "stream",
     "text": [
      "0.0 {'ale.lives': 5}\n"
     ]
    }
   ],
   "source": [
    "environment.render()\n",
    "observation, reward, done, info = environment.step(3)\n",
    "observations.append(observation)\n",
    "print(reward, info)"
   ]
  },
  {
   "cell_type": "code",
   "execution_count": 563,
   "metadata": {
    "ExecuteTime": {
     "end_time": "2019-04-13T03:13:24.357178Z",
     "start_time": "2019-04-13T03:13:24.354179Z"
    }
   },
   "outputs": [],
   "source": [
    "obs = np.array(observations)"
   ]
  },
  {
   "cell_type": "code",
   "execution_count": 564,
   "metadata": {
    "ExecuteTime": {
     "end_time": "2019-04-13T03:13:24.540880Z",
     "start_time": "2019-04-13T03:13:24.534982Z"
    }
   },
   "outputs": [
    {
     "data": {
      "text/plain": [
       "array([  0.        ,   0.        ,   0.        ,   0.        ,\n",
       "         0.        ,   0.        ,   0.        ,   0.        ,\n",
       "         0.        ,   0.        ,   0.        ,   0.        ,\n",
       "         0.        ,   0.        ,   0.        ,   0.        ,\n",
       "         0.        ,   0.        ,   0.        ,   0.        ,\n",
       "         0.        ,   0.        ,   0.        ,   0.        ,\n",
       "         0.        ,   0.        ,   0.        ,   0.        ,\n",
       "         0.        ,   0.        ,   0.        ,   0.        ,\n",
       "         0.        ,   0.        ,   0.        ,   0.        ,\n",
       "         0.        ,   0.        ,   0.        ,   0.        ,\n",
       "         0.        ,   0.        ,   0.        ,   0.        ,\n",
       "         0.        ,   0.        ,   0.        ,   0.        ,\n",
       "         0.        ,   0.        ,   0.        ,   0.        ,\n",
       "         0.        ,   0.        ,   0.        ,   0.        ,\n",
       "         0.        ,   0.        ,   0.        ,   0.        ,\n",
       "         0.        ,   0.        ,   0.        ,   0.        ,\n",
       "         0.        ,   0.        ,   0.        ,   0.        ,\n",
       "         0.        ,   0.        ,  60.06112589,   1.46092352,\n",
       "        49.63347061,   0.        ,   1.44313708,   4.49977043,\n",
       "         0.        ,   0.        ,   0.        ,   0.        ,\n",
       "         0.        ,   0.        ,   0.        ,   0.        ,\n",
       "         0.        ,   0.        ,   0.        ,   0.        ,\n",
       "         0.        ,   0.        ,  19.04653935,   0.        ,\n",
       "         0.        ,   0.        , 104.99564139,   0.        ,\n",
       "         0.        ,   0.        ,   0.        ,   0.        ,\n",
       "         0.        ,   0.        ,   0.        ,   0.        ,\n",
       "         0.        ,   0.        ,   0.        ,   0.        ,\n",
       "         0.        ,   0.        ,   0.        ,   0.        ,\n",
       "         0.        ,   0.        ,   0.        ,   0.        ,\n",
       "         0.        ,   0.        ,   0.        , 126.36870493,\n",
       "         0.        ,   0.        ,   0.        ,   0.        ,\n",
       "         0.        ,   0.        ,   0.        ,   0.        ])"
      ]
     },
     "execution_count": 564,
     "metadata": {},
     "output_type": "execute_result"
    }
   ],
   "source": [
    "obs.std(axis=0)"
   ]
  },
  {
   "cell_type": "code",
   "execution_count": 569,
   "metadata": {
    "ExecuteTime": {
     "end_time": "2019-04-13T03:15:28.691230Z",
     "start_time": "2019-04-13T03:15:28.687717Z"
    }
   },
   "outputs": [],
   "source": [
    "bar_states = ['.'.join([str(r) for r in row[bar_features]]) for row in observations]"
   ]
  },
  {
   "cell_type": "code",
   "execution_count": 570,
   "metadata": {
    "ExecuteTime": {
     "end_time": "2019-04-13T03:15:29.948205Z",
     "start_time": "2019-04-13T03:15:29.943034Z"
    }
   },
   "outputs": [
    {
     "data": {
      "text/plain": [
       "array(['0.6.191.4.13.64.0.255', '106.3.139.5.0.3.225.5',\n",
       "       '114.6.109.4.13.44.0.255', '12.6.191.4.13.66.0.255',\n",
       "       '122.6.123.2.0.6.222.4', '138.6.85.4.13.40.0.255',\n",
       "       '140.3.106.6.2.9.219.4', '154.6.69.4.13.37.0.255',\n",
       "       '164.5.82.6.4.13.215.3', '172.2.56.2.12.34.194.0',\n",
       "       '180.2.66.2.5.16.212.3', '184.3.55.2.9.27.201.1',\n",
       "       '184.3.55.4.7.21.207.2', '184.5.55.3.11.31.197.0',\n",
       "       '184.5.55.8.7.19.209.2', '184.6.55.6.8.24.204.1',\n",
       "       '24.6.191.4.13.60.0.255', '40.6.183.4.13.57.0.255',\n",
       "       '64.6.161.4.13.53.0.255', '74.6.149.4.13.51.0.255',\n",
       "       '86.6.137.4.13.49.0.255', '98.6.126.4.13.47.0.255'], dtype='<U23')"
      ]
     },
     "execution_count": 570,
     "metadata": {},
     "output_type": "execute_result"
    }
   ],
   "source": [
    "np.unique(bar_states)"
   ]
  },
  {
   "cell_type": "code",
   "execution_count": 565,
   "metadata": {
    "ExecuteTime": {
     "end_time": "2019-04-13T03:13:33.517929Z",
     "start_time": "2019-04-13T03:13:33.511896Z"
    }
   },
   "outputs": [
    {
     "data": {
      "text/plain": [
       "array([ 70,  71,  72,  74,  75,  90,  94, 119])"
      ]
     },
     "execution_count": 565,
     "metadata": {},
     "output_type": "execute_result"
    }
   ],
   "source": [
    "bar_features = np.arange(128)[obs.std(axis=0) > 0]\n",
    "bar_features"
   ]
  },
  {
   "cell_type": "markdown",
   "metadata": {},
   "source": [
    "## Ball"
   ]
  },
  {
   "cell_type": "code",
   "execution_count": 642,
   "metadata": {
    "ExecuteTime": {
     "end_time": "2019-04-13T03:17:49.928307Z",
     "start_time": "2019-04-13T03:17:49.914716Z"
    }
   },
   "outputs": [],
   "source": [
    "state = environment.reset()"
   ]
  },
  {
   "cell_type": "code",
   "execution_count": 643,
   "metadata": {
    "ExecuteTime": {
     "end_time": "2019-04-13T03:17:50.251917Z",
     "start_time": "2019-04-13T03:17:50.249221Z"
    }
   },
   "outputs": [],
   "source": [
    "observations = []"
   ]
  },
  {
   "cell_type": "code",
   "execution_count": 703,
   "metadata": {
    "ExecuteTime": {
     "end_time": "2019-04-13T03:17:56.282693Z",
     "start_time": "2019-04-13T03:17:56.270278Z"
    }
   },
   "outputs": [
    {
     "name": "stdout",
     "output_type": "stream",
     "text": [
      "0.0 {'ale.lives': 4}\n"
     ]
    }
   ],
   "source": [
    "environment.render()\n",
    "observation, reward, done, info = environment.step(1)\n",
    "observations.append(observation)\n",
    "print(reward, info)"
   ]
  },
  {
   "cell_type": "code",
   "execution_count": 704,
   "metadata": {
    "ExecuteTime": {
     "end_time": "2019-04-13T03:17:58.200624Z",
     "start_time": "2019-04-13T03:17:58.196968Z"
    }
   },
   "outputs": [],
   "source": [
    "obs = np.array(observations)"
   ]
  },
  {
   "cell_type": "code",
   "execution_count": 705,
   "metadata": {
    "ExecuteTime": {
     "end_time": "2019-04-13T03:17:58.680714Z",
     "start_time": "2019-04-13T03:17:58.674814Z"
    }
   },
   "outputs": [
    {
     "data": {
      "text/plain": [
       "array([  0.        ,   0.        ,   0.        ,   0.        ,\n",
       "         0.        ,   0.        ,   0.        ,   0.        ,\n",
       "         0.        ,   0.        ,   0.        ,   0.        ,\n",
       "         0.        ,   0.        ,   0.        ,   0.        ,\n",
       "         0.        ,   0.        ,   0.        ,   0.        ,\n",
       "         0.        ,   0.        ,   0.        ,   0.        ,\n",
       "         0.        ,   0.        ,   0.        ,   0.        ,\n",
       "         0.        ,   0.        ,   0.        ,   0.        ,\n",
       "         0.        ,   0.        ,   0.        ,   0.        ,\n",
       "         0.        ,   0.        ,   0.        ,   0.        ,\n",
       "         0.        ,   0.        ,   0.        ,   0.        ,\n",
       "         0.        ,   0.        ,   0.        ,   0.        ,\n",
       "         0.        ,   0.        ,   0.        ,   0.        ,\n",
       "         0.        ,   0.        ,   0.        ,   0.        ,\n",
       "         0.        ,   0.49553562,   0.        ,   0.        ,\n",
       "         0.        ,   0.        ,   0.        ,   0.        ,\n",
       "         0.        ,   0.        ,   0.        ,   0.        ,\n",
       "         0.        ,   0.        ,   0.        ,   1.21792173,\n",
       "         0.        ,   0.        ,   1.08730043,   3.62108026,\n",
       "         0.        ,   0.        ,   0.        ,   0.        ,\n",
       "         0.        ,   0.        ,   0.        ,   0.        ,\n",
       "         0.        ,   0.        ,   2.47767812,   0.        ,\n",
       "         0.        ,   0.        ,  51.97969689,   0.        ,\n",
       "         0.        ,   0.        ,  86.65727513,   1.38443731,\n",
       "         0.        ,   0.        ,   0.        ,  46.0759759 ,\n",
       "         0.        ,  26.66289557,   0.        ,   0.        ,\n",
       "         0.        , 126.36340451,   0.        ,   0.        ,\n",
       "         0.        ,   0.        ,   0.        ,   0.        ,\n",
       "         0.        ,   0.        ,   0.        ,   0.        ,\n",
       "         0.        ,   0.        ,   0.        , 104.07431106,\n",
       "         0.        ,   0.        ,   0.        ,   0.        ,\n",
       "         0.        ,   0.        ,   0.        ,   0.        ])"
      ]
     },
     "execution_count": 705,
     "metadata": {},
     "output_type": "execute_result"
    }
   ],
   "source": [
    "obs.std(axis=0)"
   ]
  },
  {
   "cell_type": "code",
   "execution_count": 706,
   "metadata": {
    "ExecuteTime": {
     "end_time": "2019-04-13T03:18:07.316577Z",
     "start_time": "2019-04-13T03:18:07.312109Z"
    }
   },
   "outputs": [],
   "source": [
    "ball_states = ['.'.join([str(r) for r in row[ball_features]]) for row in observations]"
   ]
  },
  {
   "cell_type": "code",
   "execution_count": 708,
   "metadata": {
    "ExecuteTime": {
     "end_time": "2019-04-13T03:18:22.870778Z",
     "start_time": "2019-04-13T03:18:22.864945Z"
    }
   },
   "outputs": [
    {
     "data": {
      "text/plain": [
       "60"
      ]
     },
     "execution_count": 708,
     "metadata": {},
     "output_type": "execute_result"
    }
   ],
   "source": [
    "len(np.unique(ball_states))"
   ]
  },
  {
   "cell_type": "code",
   "execution_count": 533,
   "metadata": {
    "ExecuteTime": {
     "end_time": "2019-04-13T03:09:00.529051Z",
     "start_time": "2019-04-13T03:09:00.523693Z"
    }
   },
   "outputs": [
    {
     "data": {
      "text/plain": [
       "array([ 57,  71,  74,  75,  86,  90,  94,  95,  99, 101, 103, 105, 119])"
      ]
     },
     "execution_count": 533,
     "metadata": {},
     "output_type": "execute_result"
    }
   ],
   "source": [
    "ball_features = np.arange(128)[obs.std(axis=0) > 0]\n",
    "ball_features"
   ]
  },
  {
   "cell_type": "code",
   "execution_count": 534,
   "metadata": {
    "ExecuteTime": {
     "end_time": "2019-04-13T03:09:03.611116Z",
     "start_time": "2019-04-13T03:09:03.603308Z"
    }
   },
   "outputs": [],
   "source": [
    "environment.close()"
   ]
  },
  {
   "cell_type": "code",
   "execution_count": 535,
   "metadata": {
    "ExecuteTime": {
     "end_time": "2019-04-13T03:09:54.356539Z",
     "start_time": "2019-04-13T03:09:54.352861Z"
    }
   },
   "outputs": [],
   "source": [
    "features = np.unique(list(bar_features) + list(ball_features))"
   ]
  },
  {
   "cell_type": "code",
   "execution_count": 538,
   "metadata": {
    "ExecuteTime": {
     "end_time": "2019-04-13T03:10:08.473744Z",
     "start_time": "2019-04-13T03:10:08.469977Z"
    }
   },
   "outputs": [
    {
     "data": {
      "text/plain": [
       "array([ 57,  70,  71,  72,  74,  75,  86,  90,  94,  95,  99, 101, 103,\n",
       "       105, 119])"
      ]
     },
     "execution_count": 538,
     "metadata": {},
     "output_type": "execute_result"
    }
   ],
   "source": [
    "features"
   ]
  },
  {
   "cell_type": "code",
   "execution_count": null,
   "metadata": {},
   "outputs": [],
   "source": []
  },
  {
   "cell_type": "code",
   "execution_count": null,
   "metadata": {},
   "outputs": [],
   "source": []
  },
  {
   "cell_type": "code",
   "execution_count": null,
   "metadata": {},
   "outputs": [],
   "source": []
  },
  {
   "cell_type": "code",
   "execution_count": null,
   "metadata": {},
   "outputs": [],
   "source": []
  }
 ],
 "metadata": {
  "kernelspec": {
   "display_name": "Python 3",
   "language": "python",
   "name": "python3"
  },
  "language_info": {
   "codemirror_mode": {
    "name": "ipython",
    "version": 3
   },
   "file_extension": ".py",
   "mimetype": "text/x-python",
   "name": "python",
   "nbconvert_exporter": "python",
   "pygments_lexer": "ipython3",
   "version": "3.7.2"
  },
  "toc": {
   "base_numbering": 1.0,
   "nav_menu": {},
   "number_sections": true,
   "sideBar": true,
   "skip_h1_title": false,
   "title_cell": "Table of Contents",
   "title_sidebar": "Contents",
   "toc_cell": false,
   "toc_position": {},
   "toc_section_display": true,
   "toc_window_display": false
  }
 },
 "nbformat": 4,
 "nbformat_minor": 2
}
