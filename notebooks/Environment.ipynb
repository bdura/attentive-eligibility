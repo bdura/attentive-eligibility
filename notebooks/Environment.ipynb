{
 "cells": [
  {
   "cell_type": "code",
   "execution_count": 1,
   "metadata": {
    "ExecuteTime": {
     "end_time": "2019-04-04T19:14:11.097558Z",
     "start_time": "2019-04-04T19:14:10.672287Z"
    }
   },
   "outputs": [],
   "source": [
    "import gym"
   ]
  },
  {
   "cell_type": "code",
   "execution_count": 4,
   "metadata": {
    "ExecuteTime": {
     "end_time": "2019-04-04T19:15:39.129257Z",
     "start_time": "2019-04-04T19:15:38.968397Z"
    }
   },
   "outputs": [],
   "source": [
    "environment = gym.make('Breakout-ram-v0')"
   ]
  },
  {
   "cell_type": "code",
   "execution_count": 6,
   "metadata": {
    "ExecuteTime": {
     "end_time": "2019-04-04T19:16:51.108366Z",
     "start_time": "2019-04-04T19:16:51.079833Z"
    }
   },
   "outputs": [
    {
     "data": {
      "text/plain": [
       "array([ 63,  63,  63,  63,  63,  63, 255, 255, 255, 255, 255, 255, 255,\n",
       "       255, 255, 255, 255, 255, 255, 255, 255, 255, 255, 255, 255, 255,\n",
       "       255, 255, 255, 255, 192, 192, 192, 192, 192, 192, 255, 255, 255,\n",
       "       255, 255, 255, 255, 255, 255, 255, 255, 255, 255, 240,   0,   0,\n",
       "       255,   0,   0, 240,   0,   5,   0,   0,   6,   0,  70, 182, 134,\n",
       "       198,  22,  38,  54,  70,  88,   6, 146,   0,   8,   0,   0,   0,\n",
       "         0,   0,   0, 241,   0, 242,   0, 242,  25, 241,   5, 242,   0,\n",
       "         0, 255,   0, 228,   0,   0,   0,   0,   0,   0,   0,   0,   0,\n",
       "         0,   0,   0,   0,   8,   0, 255, 255, 255, 255, 255, 255, 255,\n",
       "         0,   0,   5,   0,   0, 186, 214, 117, 246, 219, 242], dtype=uint8)"
      ]
     },
     "execution_count": 6,
     "metadata": {},
     "output_type": "execute_result"
    }
   ],
   "source": [
    "environment.reset()"
   ]
  },
  {
   "cell_type": "code",
   "execution_count": 19,
   "metadata": {
    "ExecuteTime": {
     "end_time": "2019-04-04T19:18:57.537065Z",
     "start_time": "2019-04-04T19:18:57.529394Z"
    }
   },
   "outputs": [
    {
     "data": {
      "text/plain": [
       "(array([ 63,  63,  63,  63,  63,  63, 255, 255, 255, 255, 255, 255, 255,\n",
       "        255, 255, 255, 255, 255, 255, 255, 255, 255, 255, 255, 255, 255,\n",
       "        255, 255, 255, 255, 192, 192, 192, 192, 192, 192, 255, 255, 255,\n",
       "        255, 255, 255, 255, 255, 255, 255, 255, 255, 255, 240,   0,   0,\n",
       "        255,   0,   0, 240,   0,   5,   0,   0,   6,   0,  70, 182, 134,\n",
       "        198,  22,  38,  54,  70,  94,   4, 141,   0,   6,   9,   0,   0,\n",
       "          0,   0,   0, 241,   0, 242,   0, 242,  25, 241,   5, 242,  26,\n",
       "          0, 255,   0, 202,  64,   0,   0,   0, 102,   0, 138,   0,   1,\n",
       "          0,   1,   0,   0,   8,   0, 255, 255, 255, 255, 255, 255, 255,\n",
       "          0,   0,   1,   0,   0, 186, 214, 117, 246, 219, 242], dtype=uint8),\n",
       " 0.0,\n",
       " False,\n",
       " {'ale.lives': 5})"
      ]
     },
     "execution_count": 19,
     "metadata": {},
     "output_type": "execute_result"
    }
   ],
   "source": [
    "environment.step(environment.action_space.sample())"
   ]
  },
  {
   "cell_type": "code",
   "execution_count": 20,
   "metadata": {
    "ExecuteTime": {
     "end_time": "2019-04-04T19:18:57.752678Z",
     "start_time": "2019-04-04T19:18:57.745856Z"
    }
   },
   "outputs": [
    {
     "data": {
      "text/plain": [
       "True"
      ]
     },
     "execution_count": 20,
     "metadata": {},
     "output_type": "execute_result"
    }
   ],
   "source": [
    "environment.render()"
   ]
  },
  {
   "cell_type": "code",
   "execution_count": null,
   "metadata": {},
   "outputs": [],
   "source": []
  },
  {
   "cell_type": "code",
   "execution_count": null,
   "metadata": {},
   "outputs": [],
   "source": []
  }
 ],
 "metadata": {
  "kernelspec": {
   "display_name": "Python 3",
   "language": "python",
   "name": "python3"
  },
  "language_info": {
   "codemirror_mode": {
    "name": "ipython",
    "version": 3
   },
   "file_extension": ".py",
   "mimetype": "text/x-python",
   "name": "python",
   "nbconvert_exporter": "python",
   "pygments_lexer": "ipython3",
   "version": "3.7.2"
  },
  "toc": {
   "base_numbering": 1,
   "nav_menu": {},
   "number_sections": true,
   "sideBar": true,
   "skip_h1_title": false,
   "title_cell": "Table of Contents",
   "title_sidebar": "Contents",
   "toc_cell": false,
   "toc_position": {},
   "toc_section_display": true,
   "toc_window_display": false
  }
 },
 "nbformat": 4,
 "nbformat_minor": 2
}
