{
 "cells": [
  {
   "cell_type": "code",
   "execution_count": 1,
   "metadata": {
    "ExecuteTime": {
     "end_time": "2019-04-06T12:50:19.847639Z",
     "start_time": "2019-04-06T12:50:19.683663Z"
    }
   },
   "outputs": [],
   "source": [
    "import gym"
   ]
  },
  {
   "cell_type": "code",
   "execution_count": 2,
   "metadata": {
    "ExecuteTime": {
     "end_time": "2019-04-06T12:50:20.206860Z",
     "start_time": "2019-04-06T12:50:19.961009Z"
    }
   },
   "outputs": [],
   "source": [
    "environment = gym.make('Breakout-ram-v0')"
   ]
  },
  {
   "cell_type": "code",
   "execution_count": 3,
   "metadata": {
    "ExecuteTime": {
     "end_time": "2019-04-06T12:50:20.374847Z",
     "start_time": "2019-04-06T12:50:20.363989Z"
    }
   },
   "outputs": [],
   "source": [
    "state = environment.reset()"
   ]
  },
  {
   "cell_type": "code",
   "execution_count": 9,
   "metadata": {
    "ExecuteTime": {
     "end_time": "2019-04-06T12:50:30.057831Z",
     "start_time": "2019-04-06T12:50:29.872018Z"
    }
   },
   "outputs": [
    {
     "name": "stdout",
     "output_type": "stream",
     "text": [
      "1.0\n",
      "1.0\n",
      "1.0\n",
      "1.0\n",
      "440\n"
     ]
    }
   ],
   "source": [
    "environment.reset()\n",
    "done = False\n",
    "counter = 0\n",
    "while not done:\n",
    "    counter += 1\n",
    "    # environment.render()\n",
    "    observation, reward, done, info = environment.step(environment.action_space.sample()) # take a random action\n",
    "    if reward > 0:\n",
    "        print(reward)\n",
    "\n",
    "print(counter)\n",
    "# environment.close()"
   ]
  },
  {
   "cell_type": "code",
   "execution_count": 6,
   "metadata": {
    "ExecuteTime": {
     "end_time": "2019-04-04T21:46:40.134575Z",
     "start_time": "2019-04-04T21:46:40.126432Z"
    }
   },
   "outputs": [
    {
     "data": {
      "text/plain": [
       "Discrete(4)"
      ]
     },
     "execution_count": 6,
     "metadata": {},
     "output_type": "execute_result"
    }
   ],
   "source": [
    "environment.action_space"
   ]
  },
  {
   "cell_type": "code",
   "execution_count": null,
   "metadata": {},
   "outputs": [],
   "source": []
  }
 ],
 "metadata": {
  "kernelspec": {
   "display_name": "Python 3",
   "language": "python",
   "name": "python3"
  },
  "language_info": {
   "codemirror_mode": {
    "name": "ipython",
    "version": 3
   },
   "file_extension": ".py",
   "mimetype": "text/x-python",
   "name": "python",
   "nbconvert_exporter": "python",
   "pygments_lexer": "ipython3",
   "version": "3.7.2"
  },
  "toc": {
   "base_numbering": 1,
   "nav_menu": {},
   "number_sections": true,
   "sideBar": true,
   "skip_h1_title": false,
   "title_cell": "Table of Contents",
   "title_sidebar": "Contents",
   "toc_cell": false,
   "toc_position": {},
   "toc_section_display": true,
   "toc_window_display": false
  }
 },
 "nbformat": 4,
 "nbformat_minor": 2
}
