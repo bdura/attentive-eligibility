{
 "cells": [
  {
   "cell_type": "code",
   "execution_count": 1,
   "metadata": {
    "ExecuteTime": {
     "end_time": "2019-04-04T21:45:57.688532Z",
     "start_time": "2019-04-04T21:45:57.505050Z"
    }
   },
   "outputs": [],
   "source": [
    "import gym"
   ]
  },
  {
   "cell_type": "code",
   "execution_count": 2,
   "metadata": {
    "ExecuteTime": {
     "end_time": "2019-04-04T21:45:57.937155Z",
     "start_time": "2019-04-04T21:45:57.691089Z"
    }
   },
   "outputs": [],
   "source": [
    "environment = gym.make('Breakout-ram-v0')"
   ]
  },
  {
   "cell_type": "code",
   "execution_count": 3,
   "metadata": {
    "ExecuteTime": {
     "end_time": "2019-04-04T21:45:57.956080Z",
     "start_time": "2019-04-04T21:45:57.939400Z"
    }
   },
   "outputs": [
    {
     "data": {
      "text/plain": [
       "array([ 63,  63,  63,  63,  63,  63, 255, 255, 255, 255, 255, 255, 255,\n",
       "       255, 255, 255, 255, 255, 255, 255, 255, 255, 255, 255, 255, 255,\n",
       "       255, 255, 255, 255, 192, 192, 192, 192, 192, 192, 255, 255, 255,\n",
       "       255, 255, 255, 255, 255, 255, 255, 255, 255, 255, 240,   0,   0,\n",
       "       255,   0,   0, 240,   0,   5,   0,   0,   6,   0,  70, 182, 134,\n",
       "       198,  22,  38,  54,  70,  88,   6, 146,   0,   8,   0,   0,   0,\n",
       "         0,   0,   0, 241,   0, 242,   0, 242,  25, 241,   5, 242,   0,\n",
       "         0, 255,   0, 228,   0,   0,   0,   0,   0,   0,   0,   0,   0,\n",
       "         0,   0,   0,   0,   8,   0, 255, 255, 255, 255, 255, 255, 255,\n",
       "         0,   0,   5,   0,   0, 186, 214, 117, 246, 219, 242], dtype=uint8)"
      ]
     },
     "execution_count": 3,
     "metadata": {},
     "output_type": "execute_result"
    }
   ],
   "source": [
    "environment.reset()"
   ]
  },
  {
   "cell_type": "code",
   "execution_count": 4,
   "metadata": {
    "ExecuteTime": {
     "end_time": "2019-04-04T21:45:58.703332Z",
     "start_time": "2019-04-04T21:45:58.694997Z"
    }
   },
   "outputs": [
    {
     "data": {
      "text/plain": [
       "(array([ 63,  63,  63,  63,  63,  63, 255, 255, 255, 255, 255, 255, 255,\n",
       "        255, 255, 255, 255, 255, 255, 255, 255, 255, 255, 255, 255, 255,\n",
       "        255, 255, 255, 255, 192, 192, 192, 192, 192, 192, 255, 255, 255,\n",
       "        255, 255, 255, 255, 255, 255, 255, 255, 255, 255, 240,   0,   0,\n",
       "        255,   0,   0, 240,   0,   5,   0,   0,   6,   0,  70, 182, 134,\n",
       "        198,  22,  38,  54,  70,  88,   4, 146,   0,   6,   0,   0,   0,\n",
       "          0,   0,   0, 241,   0, 242,   0, 242,  25, 241,   5, 242,   2,\n",
       "          0, 255,   0, 226,  71,   0,   0,   0, 129,   0, 113,   0,   1,\n",
       "          0, 255,   0,   0,   8,   0, 255, 255, 255, 255, 255, 255, 255,\n",
       "          0,   0,   5,   0,   0, 186, 214, 117, 246, 219, 242], dtype=uint8),\n",
       " 0.0,\n",
       " False,\n",
       " {'ale.lives': 5})"
      ]
     },
     "execution_count": 4,
     "metadata": {},
     "output_type": "execute_result"
    }
   ],
   "source": [
    "environment.step(environment.action_space.sample())"
   ]
  },
  {
   "cell_type": "code",
   "execution_count": 6,
   "metadata": {
    "ExecuteTime": {
     "end_time": "2019-04-04T21:46:40.134575Z",
     "start_time": "2019-04-04T21:46:40.126432Z"
    }
   },
   "outputs": [
    {
     "data": {
      "text/plain": [
       "Discrete(4)"
      ]
     },
     "execution_count": 6,
     "metadata": {},
     "output_type": "execute_result"
    }
   ],
   "source": [
    "environment.action_space"
   ]
  },
  {
   "cell_type": "code",
   "execution_count": null,
   "metadata": {},
   "outputs": [],
   "source": []
  }
 ],
 "metadata": {
  "kernelspec": {
   "display_name": "Python 3",
   "language": "python",
   "name": "python3"
  },
  "language_info": {
   "codemirror_mode": {
    "name": "ipython",
    "version": 3
   },
   "file_extension": ".py",
   "mimetype": "text/x-python",
   "name": "python",
   "nbconvert_exporter": "python",
   "pygments_lexer": "ipython3",
   "version": "3.7.2"
  },
  "toc": {
   "base_numbering": 1,
   "nav_menu": {},
   "number_sections": true,
   "sideBar": true,
   "skip_h1_title": false,
   "title_cell": "Table of Contents",
   "title_sidebar": "Contents",
   "toc_cell": false,
   "toc_position": {},
   "toc_section_display": true,
   "toc_window_display": false
  }
 },
 "nbformat": 4,
 "nbformat_minor": 2
}
