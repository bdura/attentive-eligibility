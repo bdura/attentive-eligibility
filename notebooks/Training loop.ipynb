{
 "cells": [
  {
   "cell_type": "code",
   "execution_count": 1,
   "metadata": {
    "ExecuteTime": {
     "end_time": "2019-04-08T17:28:43.673976Z",
     "start_time": "2019-04-08T17:28:42.777965Z"
    }
   },
   "outputs": [],
   "source": [
    "import gym\n",
    "import numpy as np\n",
    "\n",
    "import time"
   ]
  },
  {
   "cell_type": "code",
   "execution_count": 2,
   "metadata": {
    "ExecuteTime": {
     "end_time": "2019-04-08T17:28:43.680482Z",
     "start_time": "2019-04-08T17:28:43.676520Z"
    }
   },
   "outputs": [],
   "source": [
    "import sys\n",
    "import os\n",
    "\n",
    "sys.path.append(os.path.abspath('../'))\n",
    "\n",
    "del sys, os"
   ]
  },
  {
   "cell_type": "code",
   "execution_count": 3,
   "metadata": {
    "ExecuteTime": {
     "end_time": "2019-04-08T17:28:44.328993Z",
     "start_time": "2019-04-08T17:28:43.682332Z"
    }
   },
   "outputs": [],
   "source": [
    "import matplotlib.pyplot as plt"
   ]
  },
  {
   "cell_type": "code",
   "execution_count": 4,
   "metadata": {
    "ExecuteTime": {
     "end_time": "2019-04-08T17:28:44.382153Z",
     "start_time": "2019-04-08T17:28:44.332203Z"
    }
   },
   "outputs": [],
   "source": [
    "# LaTeX rendering in graphs\n",
    "from distutils.spawn import find_executable\n",
    "if find_executable('latex'):\n",
    "    plt.rc('text', usetex=True)\n",
    "\n",
    "plt.rc('font', family='serif')\n",
    "\n",
    "# High resolution graphs\n",
    "%config InlineBackend.figure_format = 'retina'"
   ]
  },
  {
   "cell_type": "code",
   "execution_count": 5,
   "metadata": {
    "ExecuteTime": {
     "end_time": "2019-04-08T17:28:45.786323Z",
     "start_time": "2019-04-08T17:28:44.385223Z"
    }
   },
   "outputs": [],
   "source": [
    "import torch"
   ]
  },
  {
   "cell_type": "code",
   "execution_count": 6,
   "metadata": {
    "ExecuteTime": {
     "end_time": "2019-04-08T17:28:45.818877Z",
     "start_time": "2019-04-08T17:28:45.790547Z"
    }
   },
   "outputs": [],
   "source": [
    "%reload_ext autoreload\n",
    "%autoreload 2"
   ]
  },
  {
   "cell_type": "code",
   "execution_count": 7,
   "metadata": {
    "ExecuteTime": {
     "end_time": "2019-04-08T17:28:45.868579Z",
     "start_time": "2019-04-08T17:28:45.821748Z"
    }
   },
   "outputs": [],
   "source": [
    "import models.rnn as rnns\n",
    "import models.mlp as mlps\n",
    "import control.agents as agents\n",
    "import control.environments as env"
   ]
  },
  {
   "cell_type": "code",
   "execution_count": 8,
   "metadata": {
    "ExecuteTime": {
     "end_time": "2019-04-08T17:28:45.933265Z",
     "start_time": "2019-04-08T17:28:45.871237Z"
    }
   },
   "outputs": [],
   "source": [
    "from utils.notifications import Slack"
   ]
  },
  {
   "cell_type": "code",
   "execution_count": 9,
   "metadata": {
    "ExecuteTime": {
     "end_time": "2019-04-08T17:28:45.960782Z",
     "start_time": "2019-04-08T17:28:45.935990Z"
    }
   },
   "outputs": [],
   "source": [
    "import copy"
   ]
  },
  {
   "cell_type": "markdown",
   "metadata": {},
   "source": [
    "# Setup"
   ]
  },
  {
   "cell_type": "code",
   "execution_count": 10,
   "metadata": {
    "ExecuteTime": {
     "end_time": "2019-04-08T17:28:47.076083Z",
     "start_time": "2019-04-08T17:28:46.978520Z"
    }
   },
   "outputs": [],
   "source": [
    "# model = mlps.MLP()\n",
    "model = rnns.AttentiveRNN(input_dimension=128, hidden_dimension=50, truncate=10)  #, key_dimension=15)"
   ]
  },
  {
   "cell_type": "code",
   "execution_count": 11,
   "metadata": {
    "ExecuteTime": {
     "end_time": "2019-04-08T17:28:47.510672Z",
     "start_time": "2019-04-08T17:28:47.484778Z"
    }
   },
   "outputs": [],
   "source": [
    "optimiser = torch.optim.Adam(model.parameters(), lr=.001)"
   ]
  },
  {
   "cell_type": "code",
   "execution_count": 12,
   "metadata": {
    "ExecuteTime": {
     "end_time": "2019-04-08T17:28:47.733255Z",
     "start_time": "2019-04-08T17:28:47.668950Z"
    }
   },
   "outputs": [],
   "source": [
    "agent = agents.DQNAgent(model, optimiser, gamma=.9999, temperature=100, algorithm='qlearning')"
   ]
  },
  {
   "cell_type": "code",
   "execution_count": 13,
   "metadata": {
    "ExecuteTime": {
     "end_time": "2019-04-08T17:28:48.405041Z",
     "start_time": "2019-04-08T17:28:48.089205Z"
    }
   },
   "outputs": [],
   "source": [
    "environment = env.Environment(\n",
    "    environment=gym.make('Breakout-ram-v4'), \n",
    "    agent=agent,\n",
    "    verbose=True,\n",
    "    max_steps=1000,\n",
    "    slack=Slack()\n",
    ")"
   ]
  },
  {
   "cell_type": "code",
   "execution_count": 14,
   "metadata": {
    "ExecuteTime": {
     "end_time": "2019-04-08T17:28:49.876101Z",
     "start_time": "2019-04-08T17:28:49.839259Z"
    }
   },
   "outputs": [],
   "source": [
    "environment.save('saved/test')"
   ]
  },
  {
   "cell_type": "code",
   "execution_count": 15,
   "metadata": {
    "ExecuteTime": {
     "end_time": "2019-04-08T17:28:50.511375Z",
     "start_time": "2019-04-08T17:28:50.479913Z"
    }
   },
   "outputs": [],
   "source": [
    "from utils.checkpoint import load_environment"
   ]
  },
  {
   "cell_type": "code",
   "execution_count": 16,
   "metadata": {
    "ExecuteTime": {
     "end_time": "2019-04-08T17:28:51.308272Z",
     "start_time": "2019-04-08T17:28:51.126199Z"
    }
   },
   "outputs": [
    {
     "data": {
      "text/plain": [
       "AttentiveRNN(\n",
       "  (activation): ReLU()\n",
       "  (dropout): Dropout(p=0.1)\n",
       "  (input_layer): Linear(in_features=128, out_features=50, bias=True)\n",
       "  (context_layer): Linear(in_features=100, out_features=50, bias=True)\n",
       "  (key): Linear(in_features=50, out_features=5, bias=True)\n",
       "  (query): Linear(in_features=50, out_features=5, bias=True)\n",
       "  (action_layer): Linear(in_features=50, out_features=4, bias=True)\n",
       ")"
      ]
     },
     "execution_count": 16,
     "metadata": {},
     "output_type": "execute_result"
    }
   ],
   "source": [
    "load_environment('saved/test').agent.model"
   ]
  },
  {
   "cell_type": "markdown",
   "metadata": {},
   "source": [
    "# Experiment"
   ]
  },
  {
   "cell_type": "code",
   "execution_count": 35,
   "metadata": {
    "ExecuteTime": {
     "end_time": "2019-04-08T17:33:42.435261Z",
     "start_time": "2019-04-08T17:33:41.726413Z"
    }
   },
   "outputs": [
    {
     "data": {
      "text/plain": [
       "(0.0, 0.0)"
      ]
     },
     "execution_count": 35,
     "metadata": {},
     "output_type": "execute_result"
    }
   ],
   "source": [
    "environment.exploration_segment(20)"
   ]
  },
  {
   "cell_type": "code",
   "execution_count": 41,
   "metadata": {
    "ExecuteTime": {
     "end_time": "2019-04-08T17:33:46.372816Z",
     "start_time": "2019-04-08T17:33:45.826942Z"
    }
   },
   "outputs": [],
   "source": [
    "environment.batch(10)"
   ]
  },
  {
   "cell_type": "code",
   "execution_count": 31,
   "metadata": {
    "ExecuteTime": {
     "end_time": "2019-04-08T17:33:33.896587Z",
     "start_time": "2019-04-08T17:33:33.862789Z"
    }
   },
   "outputs": [
    {
     "ename": "NameError",
     "evalue": "name 'x' is not defined",
     "output_type": "error",
     "traceback": [
      "\u001b[0;31m---------------------------------------------------------------------------\u001b[0m",
      "\u001b[0;31mNameError\u001b[0m                                 Traceback (most recent call last)",
      "\u001b[0;32m<ipython-input-31-936d41d245d0>\u001b[0m in \u001b[0;36m<module>\u001b[0;34m\u001b[0m\n\u001b[0;32m----> 1\u001b[0;31m \u001b[0magent\u001b[0m\u001b[0;34m.\u001b[0m\u001b[0mq\u001b[0m\u001b[0;34m(\u001b[0m\u001b[0mx\u001b[0m\u001b[0;34m)\u001b[0m\u001b[0;34m\u001b[0m\u001b[0;34m\u001b[0m\u001b[0m\n\u001b[0m",
      "\u001b[0;31mNameError\u001b[0m: name 'x' is not defined"
     ]
    }
   ],
   "source": [
    "agent.q(x)"
   ]
  },
  {
   "cell_type": "code",
   "execution_count": 123,
   "metadata": {
    "ExecuteTime": {
     "end_time": "2019-04-07T17:36:46.387902Z",
     "start_time": "2019-04-07T17:36:46.337547Z"
    }
   },
   "outputs": [],
   "source": [
    "agent.commit()"
   ]
  },
  {
   "cell_type": "code",
   "execution_count": 124,
   "metadata": {
    "ExecuteTime": {
     "end_time": "2019-04-07T18:11:31.813740Z",
     "start_time": "2019-04-07T18:11:31.782555Z"
    }
   },
   "outputs": [
    {
     "data": {
      "text/plain": [
       "array([-0.7905634 , -0.24595691, -0.15114474, -0.5289955 ], dtype=float32)"
      ]
     },
     "execution_count": 124,
     "metadata": {},
     "output_type": "execute_result"
    }
   ],
   "source": [
    "agent.q(x)"
   ]
  },
  {
   "cell_type": "code",
   "execution_count": 31,
   "metadata": {
    "ExecuteTime": {
     "end_time": "2019-04-07T17:58:12.532502Z",
     "start_time": "2019-04-07T17:58:11.884114Z"
    }
   },
   "outputs": [
    {
     "data": {
      "text/plain": [
       "(0.0, 1000)"
      ]
     },
     "execution_count": 31,
     "metadata": {},
     "output_type": "execute_result"
    }
   ],
   "source": [
    "environment.evaluation_episode()"
   ]
  },
  {
   "cell_type": "code",
   "execution_count": 1750,
   "metadata": {
    "ExecuteTime": {
     "end_time": "2019-04-07T18:13:02.026688Z",
     "start_time": "2019-04-07T18:13:01.873530Z"
    }
   },
   "outputs": [
    {
     "data": {
      "text/plain": [
       "(0.0, 160)"
      ]
     },
     "execution_count": 1750,
     "metadata": {},
     "output_type": "execute_result"
    }
   ],
   "source": [
    "state = environment.environment.reset()\n",
    "\n",
    "agent.eval()\n",
    "\n",
    "done = False\n",
    "full_return = 0.\n",
    "\n",
    "action = np.random.choice(environment.greedy(state))\n",
    "\n",
    "counter = 0\n",
    "while not done and counter < 10000:\n",
    "    \n",
    "    s, reward, done, i = environment.environment.step(action)\n",
    "\n",
    "    # If there are ties, we might want to choose between actions at random\n",
    "    a = np.random.choice(environment.greedy(s))\n",
    "\n",
    "    # We store the new state and action\n",
    "    state, action = s, a\n",
    "    \n",
    "    full_return = agent.gamma * full_return + reward\n",
    "    counter += 1\n",
    "\n",
    "full_return, counter"
   ]
  },
  {
   "cell_type": "code",
   "execution_count": 1515,
   "metadata": {
    "ExecuteTime": {
     "end_time": "2019-04-07T18:12:07.887301Z",
     "start_time": "2019-04-07T18:12:07.844998Z"
    }
   },
   "outputs": [],
   "source": [
    "state = environment.environment.reset()\n",
    "action = np.random.choice(environment.greedy(state))"
   ]
  },
  {
   "cell_type": "code",
   "execution_count": 1784,
   "metadata": {
    "ExecuteTime": {
     "end_time": "2019-04-07T18:33:29.341497Z",
     "start_time": "2019-04-07T18:33:29.308170Z"
    }
   },
   "outputs": [
    {
     "data": {
      "text/plain": [
       "(True, {'ale.lives': 4}, 0)"
      ]
     },
     "execution_count": 1784,
     "metadata": {},
     "output_type": "execute_result"
    }
   ],
   "source": [
    "s, reward, done, i = environment.environment.step(action)\n",
    "\n",
    "# If there are ties, we might want to choose between actions at random\n",
    "# a = np.random.choice(4, p=environment.epsilon_greedy(s, .1))\n",
    "a = environment.environment.action_space.sample()\n",
    "\n",
    "# We store the new state and action\n",
    "state, action = s, a\n",
    "\n",
    "done = done or i['ale.lives'] < 5\n",
    "\n",
    "done, i, a"
   ]
  },
  {
   "cell_type": "markdown",
   "metadata": {},
   "source": [
    "# Training"
   ]
  },
  {
   "cell_type": "code",
   "execution_count": 1752,
   "metadata": {
    "ExecuteTime": {
     "end_time": "2019-04-07T18:16:01.596637Z",
     "start_time": "2019-04-07T18:13:51.404376Z"
    },
    "scrolled": true
   },
   "outputs": [
    {
     "name": "stderr",
     "output_type": "stream",
     "text": [
      "100%|#################################################################| 5/5 [00:47<00:00,  9.59s/it]\n",
      "100%|#################################################################| 5/5 [00:45<00:00,  9.41s/it]\n"
     ]
    }
   ],
   "source": [
    "environment.run(epochs=2, segments=5, episodes=50)"
   ]
  },
  {
   "cell_type": "code",
   "execution_count": 23,
   "metadata": {
    "ExecuteTime": {
     "end_time": "2019-04-06T16:00:09.084421Z",
     "start_time": "2019-04-06T16:00:09.056482Z"
    }
   },
   "outputs": [],
   "source": [
    "environment.save('../saved/')"
   ]
  }
 ],
 "metadata": {
  "kernelspec": {
   "display_name": "Python 3",
   "language": "python",
   "name": "python3"
  },
  "language_info": {
   "codemirror_mode": {
    "name": "ipython",
    "version": 3
   },
   "file_extension": ".py",
   "mimetype": "text/x-python",
   "name": "python",
   "nbconvert_exporter": "python",
   "pygments_lexer": "ipython3",
   "version": "3.7.2"
  },
  "toc": {
   "base_numbering": 1,
   "nav_menu": {},
   "number_sections": true,
   "sideBar": true,
   "skip_h1_title": false,
   "title_cell": "Table of Contents",
   "title_sidebar": "Contents",
   "toc_cell": false,
   "toc_position": {},
   "toc_section_display": true,
   "toc_window_display": false
  }
 },
 "nbformat": 4,
 "nbformat_minor": 2
}
