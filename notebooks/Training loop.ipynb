{
 "cells": [
  {
   "cell_type": "code",
   "execution_count": 1,
   "metadata": {
    "ExecuteTime": {
     "end_time": "2019-04-09T13:58:44.649472Z",
     "start_time": "2019-04-09T13:58:43.727735Z"
    }
   },
   "outputs": [],
   "source": [
    "import gym\n",
    "import numpy as np\n",
    "\n",
    "import time"
   ]
  },
  {
   "cell_type": "code",
   "execution_count": 2,
   "metadata": {
    "ExecuteTime": {
     "end_time": "2019-04-09T13:58:44.656546Z",
     "start_time": "2019-04-09T13:58:44.652478Z"
    }
   },
   "outputs": [],
   "source": [
    "import sys\n",
    "import os\n",
    "\n",
    "sys.path.append(os.path.abspath('../'))\n",
    "\n",
    "del sys, os"
   ]
  },
  {
   "cell_type": "code",
   "execution_count": 3,
   "metadata": {
    "ExecuteTime": {
     "end_time": "2019-04-09T13:58:45.063980Z",
     "start_time": "2019-04-09T13:58:44.659094Z"
    }
   },
   "outputs": [],
   "source": [
    "import matplotlib.pyplot as plt"
   ]
  },
  {
   "cell_type": "code",
   "execution_count": 4,
   "metadata": {
    "ExecuteTime": {
     "end_time": "2019-04-09T13:58:45.106646Z",
     "start_time": "2019-04-09T13:58:45.066606Z"
    }
   },
   "outputs": [],
   "source": [
    "# LaTeX rendering in graphs\n",
    "from distutils.spawn import find_executable\n",
    "if find_executable('latex'):\n",
    "    plt.rc('text', usetex=True)\n",
    "\n",
    "plt.rc('font', family='serif')\n",
    "\n",
    "# High resolution graphs\n",
    "%config InlineBackend.figure_format = 'retina'"
   ]
  },
  {
   "cell_type": "code",
   "execution_count": 5,
   "metadata": {
    "ExecuteTime": {
     "end_time": "2019-04-09T13:58:46.171770Z",
     "start_time": "2019-04-09T13:58:45.109731Z"
    }
   },
   "outputs": [],
   "source": [
    "import torch"
   ]
  },
  {
   "cell_type": "code",
   "execution_count": 6,
   "metadata": {
    "ExecuteTime": {
     "end_time": "2019-04-09T13:58:46.210119Z",
     "start_time": "2019-04-09T13:58:46.178860Z"
    }
   },
   "outputs": [],
   "source": [
    "%reload_ext autoreload\n",
    "%autoreload 2"
   ]
  },
  {
   "cell_type": "code",
   "execution_count": 7,
   "metadata": {
    "ExecuteTime": {
     "end_time": "2019-04-09T13:58:46.267883Z",
     "start_time": "2019-04-09T13:58:46.212459Z"
    }
   },
   "outputs": [],
   "source": [
    "import models.rnn as rnns\n",
    "import models.mlp as mlps\n",
    "import control.agents as agents\n",
    "import control.environments as env"
   ]
  },
  {
   "cell_type": "code",
   "execution_count": 8,
   "metadata": {
    "ExecuteTime": {
     "end_time": "2019-04-09T13:58:46.347963Z",
     "start_time": "2019-04-09T13:58:46.270086Z"
    }
   },
   "outputs": [],
   "source": [
    "from utils.notifications import Slack"
   ]
  },
  {
   "cell_type": "code",
   "execution_count": 9,
   "metadata": {
    "ExecuteTime": {
     "end_time": "2019-04-09T13:58:46.381004Z",
     "start_time": "2019-04-09T13:58:46.349768Z"
    }
   },
   "outputs": [],
   "source": [
    "import copy"
   ]
  },
  {
   "cell_type": "markdown",
   "metadata": {},
   "source": [
    "# Setup"
   ]
  },
  {
   "cell_type": "code",
   "execution_count": 10,
   "metadata": {
    "ExecuteTime": {
     "end_time": "2019-04-09T13:59:14.697374Z",
     "start_time": "2019-04-09T13:59:14.653881Z"
    }
   },
   "outputs": [],
   "source": [
    "model = mlps.MLP(input_dimension=4, n_hidden_layers=0, hidden_dimension=200, n_actions=2)\n",
    "# model = rnns.AttentiveRNN(input_dimension=128, hidden_dimension=50, truncate=10)  #, key_dimension=15)"
   ]
  },
  {
   "cell_type": "code",
   "execution_count": 11,
   "metadata": {
    "ExecuteTime": {
     "end_time": "2019-04-09T13:59:15.428478Z",
     "start_time": "2019-04-09T13:59:15.393531Z"
    }
   },
   "outputs": [],
   "source": [
    "optimiser = torch.optim.Adam(model.parameters(), lr=.001)"
   ]
  },
  {
   "cell_type": "code",
   "execution_count": 12,
   "metadata": {
    "ExecuteTime": {
     "end_time": "2019-04-09T13:59:24.173923Z",
     "start_time": "2019-04-09T13:59:24.132680Z"
    }
   },
   "outputs": [],
   "source": [
    "agent = agents.DQNAgent(model, optimiser, gamma=.9999, temperature=100, algorithm='qlearning', n_actions=2)"
   ]
  },
  {
   "cell_type": "code",
   "execution_count": 13,
   "metadata": {
    "ExecuteTime": {
     "end_time": "2019-04-09T13:59:28.215250Z",
     "start_time": "2019-04-09T13:59:28.085563Z"
    }
   },
   "outputs": [],
   "source": [
    "environment = env.Environment(\n",
    "    environment=gym.make('CartPole-v1'), \n",
    "    agent=agent,\n",
    "    verbose=True,\n",
    "    max_steps=1000,\n",
    "    slack=Slack()\n",
    ")"
   ]
  },
  {
   "cell_type": "code",
   "execution_count": 15,
   "metadata": {
    "ExecuteTime": {
     "end_time": "2019-04-08T18:59:07.625935Z",
     "start_time": "2019-04-08T18:59:07.570138Z"
    }
   },
   "outputs": [],
   "source": [
    "environment.save('saved/test')"
   ]
  },
  {
   "cell_type": "code",
   "execution_count": 15,
   "metadata": {
    "ExecuteTime": {
     "end_time": "2019-04-08T18:07:35.451069Z",
     "start_time": "2019-04-08T18:07:35.424529Z"
    }
   },
   "outputs": [],
   "source": [
    "from utils.checkpoint import load_environment"
   ]
  },
  {
   "cell_type": "code",
   "execution_count": 16,
   "metadata": {
    "ExecuteTime": {
     "end_time": "2019-04-08T18:07:35.765263Z",
     "start_time": "2019-04-08T18:07:35.581825Z"
    }
   },
   "outputs": [
    {
     "data": {
      "text/plain": [
       "AttentiveRNN(\n",
       "  (activation): ReLU()\n",
       "  (dropout): Dropout(p=0.1)\n",
       "  (input_layer): Linear(in_features=128, out_features=50, bias=True)\n",
       "  (context_layer): Linear(in_features=100, out_features=50, bias=True)\n",
       "  (key): Linear(in_features=50, out_features=5, bias=True)\n",
       "  (query): Linear(in_features=50, out_features=5, bias=True)\n",
       "  (action_layer): Linear(in_features=50, out_features=4, bias=True)\n",
       ")"
      ]
     },
     "execution_count": 16,
     "metadata": {},
     "output_type": "execute_result"
    }
   ],
   "source": [
    "load_environment('saved/test').agent.model"
   ]
  },
  {
   "cell_type": "markdown",
   "metadata": {},
   "source": [
    "# Experiment"
   ]
  },
  {
   "cell_type": "code",
   "execution_count": 83,
   "metadata": {
    "ExecuteTime": {
     "end_time": "2019-04-09T14:00:25.070373Z",
     "start_time": "2019-04-09T14:00:24.918974Z"
    }
   },
   "outputs": [
    {
     "data": {
      "text/plain": [
       "(25.959265773117163, 8.996400839874012)"
      ]
     },
     "execution_count": 83,
     "metadata": {},
     "output_type": "execute_result"
    }
   ],
   "source": [
    "environment.exploration_segment(20)"
   ]
  },
  {
   "cell_type": "code",
   "execution_count": 79,
   "metadata": {
    "ExecuteTime": {
     "end_time": "2019-04-09T14:00:23.608927Z",
     "start_time": "2019-04-09T14:00:23.558004Z"
    }
   },
   "outputs": [],
   "source": [
    "environment.batch(100)"
   ]
  },
  {
   "cell_type": "code",
   "execution_count": 37,
   "metadata": {
    "ExecuteTime": {
     "end_time": "2019-04-08T18:09:02.418562Z",
     "start_time": "2019-04-08T18:09:02.383333Z"
    }
   },
   "outputs": [],
   "source": [
    "environment.reset()\n",
    "s = environment.state"
   ]
  },
  {
   "cell_type": "code",
   "execution_count": 38,
   "metadata": {
    "ExecuteTime": {
     "end_time": "2019-04-08T18:09:02.452140Z",
     "start_time": "2019-04-08T18:09:02.420597Z"
    }
   },
   "outputs": [
    {
     "data": {
      "text/plain": [
       "array([-0.06783922, -0.04041   , -0.04206257, -0.1287726 ], dtype=float32)"
      ]
     },
     "execution_count": 38,
     "metadata": {},
     "output_type": "execute_result"
    }
   ],
   "source": [
    "agent.q(s)"
   ]
  },
  {
   "cell_type": "code",
   "execution_count": 123,
   "metadata": {
    "ExecuteTime": {
     "end_time": "2019-04-07T17:36:46.387902Z",
     "start_time": "2019-04-07T17:36:46.337547Z"
    }
   },
   "outputs": [],
   "source": [
    "agent.commit()"
   ]
  },
  {
   "cell_type": "code",
   "execution_count": 124,
   "metadata": {
    "ExecuteTime": {
     "end_time": "2019-04-07T18:11:31.813740Z",
     "start_time": "2019-04-07T18:11:31.782555Z"
    }
   },
   "outputs": [
    {
     "data": {
      "text/plain": [
       "array([-0.7905634 , -0.24595691, -0.15114474, -0.5289955 ], dtype=float32)"
      ]
     },
     "execution_count": 124,
     "metadata": {},
     "output_type": "execute_result"
    }
   ],
   "source": [
    "agent.q(x)"
   ]
  },
  {
   "cell_type": "code",
   "execution_count": 31,
   "metadata": {
    "ExecuteTime": {
     "end_time": "2019-04-07T17:58:12.532502Z",
     "start_time": "2019-04-07T17:58:11.884114Z"
    }
   },
   "outputs": [
    {
     "data": {
      "text/plain": [
       "(0.0, 1000)"
      ]
     },
     "execution_count": 31,
     "metadata": {},
     "output_type": "execute_result"
    }
   ],
   "source": [
    "environment.evaluation_episode()"
   ]
  },
  {
   "cell_type": "code",
   "execution_count": 1750,
   "metadata": {
    "ExecuteTime": {
     "end_time": "2019-04-07T18:13:02.026688Z",
     "start_time": "2019-04-07T18:13:01.873530Z"
    }
   },
   "outputs": [
    {
     "data": {
      "text/plain": [
       "(0.0, 160)"
      ]
     },
     "execution_count": 1750,
     "metadata": {},
     "output_type": "execute_result"
    }
   ],
   "source": [
    "state = environment.environment.reset()\n",
    "\n",
    "agent.eval()\n",
    "\n",
    "done = False\n",
    "full_return = 0.\n",
    "\n",
    "action = np.random.choice(environment.greedy(state))\n",
    "\n",
    "counter = 0\n",
    "while not done and counter < 10000:\n",
    "    \n",
    "    s, reward, done, i = environment.environment.step(action)\n",
    "\n",
    "    # If there are ties, we might want to choose between actions at random\n",
    "    a = np.random.choice(environment.greedy(s))\n",
    "\n",
    "    # We store the new state and action\n",
    "    state, action = s, a\n",
    "    \n",
    "    full_return = agent.gamma * full_return + reward\n",
    "    counter += 1\n",
    "\n",
    "full_return, counter"
   ]
  },
  {
   "cell_type": "code",
   "execution_count": 1515,
   "metadata": {
    "ExecuteTime": {
     "end_time": "2019-04-07T18:12:07.887301Z",
     "start_time": "2019-04-07T18:12:07.844998Z"
    }
   },
   "outputs": [],
   "source": [
    "state = environment.environment.reset()\n",
    "action = np.random.choice(environment.greedy(state))"
   ]
  },
  {
   "cell_type": "code",
   "execution_count": 1784,
   "metadata": {
    "ExecuteTime": {
     "end_time": "2019-04-07T18:33:29.341497Z",
     "start_time": "2019-04-07T18:33:29.308170Z"
    }
   },
   "outputs": [
    {
     "data": {
      "text/plain": [
       "(True, {'ale.lives': 4}, 0)"
      ]
     },
     "execution_count": 1784,
     "metadata": {},
     "output_type": "execute_result"
    }
   ],
   "source": [
    "s, reward, done, i = environment.environment.step(action)\n",
    "\n",
    "# If there are ties, we might want to choose between actions at random\n",
    "# a = np.random.choice(4, p=environment.epsilon_greedy(s, .1))\n",
    "a = environment.environment.action_space.sample()\n",
    "\n",
    "# We store the new state and action\n",
    "state, action = s, a\n",
    "\n",
    "done = done or i['ale.lives'] < 5\n",
    "\n",
    "done, i, a"
   ]
  },
  {
   "cell_type": "markdown",
   "metadata": {},
   "source": [
    "# Training"
   ]
  },
  {
   "cell_type": "code",
   "execution_count": 1752,
   "metadata": {
    "ExecuteTime": {
     "end_time": "2019-04-07T18:16:01.596637Z",
     "start_time": "2019-04-07T18:13:51.404376Z"
    },
    "scrolled": true
   },
   "outputs": [
    {
     "name": "stderr",
     "output_type": "stream",
     "text": [
      "100%|#################################################################| 5/5 [00:47<00:00,  9.59s/it]\n",
      "100%|#################################################################| 5/5 [00:45<00:00,  9.41s/it]\n"
     ]
    }
   ],
   "source": [
    "environment.run(epochs=2, segments=5, episodes=50)"
   ]
  },
  {
   "cell_type": "code",
   "execution_count": 23,
   "metadata": {
    "ExecuteTime": {
     "end_time": "2019-04-06T16:00:09.084421Z",
     "start_time": "2019-04-06T16:00:09.056482Z"
    }
   },
   "outputs": [],
   "source": [
    "environment.save('../saved/')"
   ]
  }
 ],
 "metadata": {
  "kernelspec": {
   "display_name": "Python 3",
   "language": "python",
   "name": "python3"
  },
  "language_info": {
   "codemirror_mode": {
    "name": "ipython",
    "version": 3
   },
   "file_extension": ".py",
   "mimetype": "text/x-python",
   "name": "python",
   "nbconvert_exporter": "python",
   "pygments_lexer": "ipython3",
   "version": "3.7.2"
  },
  "toc": {
   "base_numbering": 1,
   "nav_menu": {},
   "number_sections": true,
   "sideBar": true,
   "skip_h1_title": false,
   "title_cell": "Table of Contents",
   "title_sidebar": "Contents",
   "toc_cell": false,
   "toc_position": {},
   "toc_section_display": true,
   "toc_window_display": false
  }
 },
 "nbformat": 4,
 "nbformat_minor": 2
}
