{
 "cells": [
  {
   "cell_type": "code",
   "execution_count": 1,
   "metadata": {
    "ExecuteTime": {
     "end_time": "2019-04-09T14:55:37.705902Z",
     "start_time": "2019-04-09T14:55:37.306083Z"
    }
   },
   "outputs": [],
   "source": [
    "import numpy as np"
   ]
  },
  {
   "cell_type": "code",
   "execution_count": 2,
   "metadata": {
    "ExecuteTime": {
     "end_time": "2019-04-09T14:55:37.714258Z",
     "start_time": "2019-04-09T14:55:37.708196Z"
    }
   },
   "outputs": [],
   "source": [
    "import sys\n",
    "import os\n",
    "\n",
    "sys.path.append(os.path.abspath('../'))\n",
    "\n",
    "del sys, os"
   ]
  },
  {
   "cell_type": "code",
   "execution_count": 3,
   "metadata": {
    "ExecuteTime": {
     "end_time": "2019-04-09T14:55:38.170837Z",
     "start_time": "2019-04-09T14:55:37.717079Z"
    }
   },
   "outputs": [],
   "source": [
    "import matplotlib.pyplot as plt"
   ]
  },
  {
   "cell_type": "code",
   "execution_count": 4,
   "metadata": {
    "ExecuteTime": {
     "end_time": "2019-04-09T14:55:38.191872Z",
     "start_time": "2019-04-09T14:55:38.174281Z"
    }
   },
   "outputs": [],
   "source": [
    "# LaTeX rendering in graphs\n",
    "try:\n",
    "    plt.rc('text', usetex=True)\n",
    "except:\n",
    "    pass\n",
    "\n",
    "plt.rc('font', family='serif')\n",
    "\n",
    "# High resolution graphs\n",
    "%config InlineBackend.figure_format = 'retina'"
   ]
  },
  {
   "cell_type": "code",
   "execution_count": 5,
   "metadata": {
    "ExecuteTime": {
     "end_time": "2019-04-09T14:55:38.797626Z",
     "start_time": "2019-04-09T14:55:38.193755Z"
    }
   },
   "outputs": [],
   "source": [
    "import torch"
   ]
  },
  {
   "cell_type": "code",
   "execution_count": 6,
   "metadata": {
    "ExecuteTime": {
     "end_time": "2019-04-09T14:55:38.850803Z",
     "start_time": "2019-04-09T14:55:38.803126Z"
    }
   },
   "outputs": [],
   "source": [
    "%reload_ext autoreload\n",
    "%autoreload 2"
   ]
  },
  {
   "cell_type": "code",
   "execution_count": 7,
   "metadata": {
    "ExecuteTime": {
     "end_time": "2019-04-09T14:55:38.925698Z",
     "start_time": "2019-04-09T14:55:38.862339Z"
    }
   },
   "outputs": [],
   "source": [
    "import models.rnn as networks"
   ]
  },
  {
   "cell_type": "markdown",
   "metadata": {},
   "source": [
    "# Model"
   ]
  },
  {
   "cell_type": "markdown",
   "metadata": {},
   "source": [
    "## RNN"
   ]
  },
  {
   "cell_type": "code",
   "execution_count": 84,
   "metadata": {
    "ExecuteTime": {
     "end_time": "2019-04-09T15:02:27.487868Z",
     "start_time": "2019-04-09T15:02:27.446878Z"
    }
   },
   "outputs": [],
   "source": [
    "rnn = networks.RNN(input_dimension=4, hidden_dimension=20, n_actions=2, truncate=200)"
   ]
  },
  {
   "cell_type": "code",
   "execution_count": 85,
   "metadata": {
    "ExecuteTime": {
     "end_time": "2019-04-09T15:02:28.240608Z",
     "start_time": "2019-04-09T15:02:28.213732Z"
    }
   },
   "outputs": [],
   "source": [
    "criterion = torch.nn.MSELoss()"
   ]
  },
  {
   "cell_type": "code",
   "execution_count": 86,
   "metadata": {
    "ExecuteTime": {
     "end_time": "2019-04-09T15:02:28.398276Z",
     "start_time": "2019-04-09T15:02:28.373231Z"
    }
   },
   "outputs": [],
   "source": [
    "i = 0"
   ]
  },
  {
   "cell_type": "code",
   "execution_count": 101,
   "metadata": {
    "ExecuteTime": {
     "end_time": "2019-04-09T15:02:37.612765Z",
     "start_time": "2019-04-09T15:02:37.111372Z"
    }
   },
   "outputs": [
    {
     "name": "stdout",
     "output_type": "stream",
     "text": [
      "15\n"
     ]
    }
   ],
   "source": [
    "i += 1\n",
    "print(i)\n",
    "for _ in range(20):\n",
    "    rnn.zero_grad()\n",
    "    \n",
    "    x = torch.randn((2, 4))\n",
    "    label = torch.randn((2, 2))\n",
    "    \n",
    "    out = rnn(x)\n",
    "    \n",
    "    loss = criterion(out, label)\n",
    "    loss.backward(retain_graph=True)"
   ]
  },
  {
   "cell_type": "code",
   "execution_count": 10,
   "metadata": {
    "ExecuteTime": {
     "end_time": "2019-04-05T14:34:34.195623Z",
     "start_time": "2019-04-05T14:34:34.154417Z"
    }
   },
   "outputs": [
    {
     "data": {
      "text/plain": [
       "tensor([[0., 0., 0., 0., 0.]])"
      ]
     },
     "execution_count": 10,
     "metadata": {},
     "output_type": "execute_result"
    }
   ],
   "source": [
    "torch.cat(tuple([i * torch.ones((1, 5)) for i in range(1)]))"
   ]
  },
  {
   "cell_type": "code",
   "execution_count": 11,
   "metadata": {
    "ExecuteTime": {
     "end_time": "2019-04-05T14:34:35.353192Z",
     "start_time": "2019-04-05T14:34:35.326118Z"
    }
   },
   "outputs": [],
   "source": [
    "rnn.reset()"
   ]
  },
  {
   "cell_type": "code",
   "execution_count": 56,
   "metadata": {
    "ExecuteTime": {
     "end_time": "2019-04-05T14:50:21.121089Z",
     "start_time": "2019-04-05T14:50:21.090508Z"
    }
   },
   "outputs": [
    {
     "data": {
      "text/plain": [
       "tensor([[ 0.0950,  0.1943,  0.1734, -0.3262],\n",
       "        [ 0.0704,  0.1886,  0.2076, -0.2887]])"
      ]
     },
     "execution_count": 56,
     "metadata": {},
     "output_type": "execute_result"
    }
   ],
   "source": [
    "rnn.predict(x)"
   ]
  },
  {
   "cell_type": "code",
   "execution_count": 54,
   "metadata": {
    "ExecuteTime": {
     "end_time": "2019-04-05T14:50:18.045116Z",
     "start_time": "2019-04-05T14:50:18.018090Z"
    }
   },
   "outputs": [
    {
     "data": {
      "text/plain": [
       "tensor([[ 0.0781,  0.2130,  0.2169, -0.2720],\n",
       "        [ 0.0818,  0.2089,  0.2073, -0.2839]], grad_fn=<AddmmBackward>)"
      ]
     },
     "execution_count": 54,
     "metadata": {},
     "output_type": "execute_result"
    }
   ],
   "source": [
    "rnn(x)"
   ]
  },
  {
   "cell_type": "markdown",
   "metadata": {},
   "source": [
    "## Attentive RNN"
   ]
  },
  {
   "cell_type": "code",
   "execution_count": 23,
   "metadata": {
    "ExecuteTime": {
     "end_time": "2019-04-05T14:35:21.239292Z",
     "start_time": "2019-04-05T14:35:21.208157Z"
    }
   },
   "outputs": [],
   "source": [
    "arnn = networks.AttentiveRNN(horizon=6)"
   ]
  },
  {
   "cell_type": "code",
   "execution_count": 24,
   "metadata": {
    "ExecuteTime": {
     "end_time": "2019-04-05T14:35:21.535861Z",
     "start_time": "2019-04-05T14:35:21.511498Z"
    }
   },
   "outputs": [],
   "source": [
    "x = torch.randn((2, 5))"
   ]
  },
  {
   "cell_type": "code",
   "execution_count": 39,
   "metadata": {
    "ExecuteTime": {
     "end_time": "2019-04-05T14:35:41.750524Z",
     "start_time": "2019-04-05T14:35:41.722255Z"
    }
   },
   "outputs": [],
   "source": [
    "arnn.reset()"
   ]
  },
  {
   "cell_type": "code",
   "execution_count": 75,
   "metadata": {
    "ExecuteTime": {
     "end_time": "2019-04-05T14:50:48.342832Z",
     "start_time": "2019-04-05T14:50:48.316283Z"
    }
   },
   "outputs": [
    {
     "name": "stdout",
     "output_type": "stream",
     "text": [
      "0\n"
     ]
    },
    {
     "data": {
      "text/plain": [
       "tensor([[-0.3430, -0.0410, -0.2369,  0.1109],\n",
       "        [-0.4024, -0.0563, -0.2040,  0.1514]])"
      ]
     },
     "execution_count": 75,
     "metadata": {},
     "output_type": "execute_result"
    }
   ],
   "source": [
    "print(len(arnn.context))\n",
    "arnn.predict(x)"
   ]
  },
  {
   "cell_type": "code",
   "execution_count": null,
   "metadata": {},
   "outputs": [],
   "source": []
  }
 ],
 "metadata": {
  "kernelspec": {
   "display_name": "Python 3",
   "language": "python",
   "name": "python3"
  },
  "language_info": {
   "codemirror_mode": {
    "name": "ipython",
    "version": 3
   },
   "file_extension": ".py",
   "mimetype": "text/x-python",
   "name": "python",
   "nbconvert_exporter": "python",
   "pygments_lexer": "ipython3",
   "version": "3.7.2"
  },
  "toc": {
   "base_numbering": 1,
   "nav_menu": {},
   "number_sections": true,
   "sideBar": true,
   "skip_h1_title": false,
   "title_cell": "Table of Contents",
   "title_sidebar": "Contents",
   "toc_cell": false,
   "toc_position": {},
   "toc_section_display": true,
   "toc_window_display": false
  }
 },
 "nbformat": 4,
 "nbformat_minor": 2
}
